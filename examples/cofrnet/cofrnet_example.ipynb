{
 "cells": [
  {
   "cell_type": "markdown",
   "metadata": {},
   "source": [
    "## CoFrNet Example Notebook"
   ]
  },
  {
   "cell_type": "markdown",
   "metadata": {},
   "source": [
    "###### Imports and Seeds"
   ]
  },
  {
   "cell_type": "code",
   "execution_count": null,
   "metadata": {},
   "outputs": [],
   "source": [
    "# Imports and Seeds\n",
    "from aix360.algorithms.cofrnet.CustomizedLinearClasses import CustomizedLinearFunction\n",
    "from aix360.algorithms.cofrnet.CustomizedLinearClasses import CustomizedLinear\n",
    "from aix360.algorithms.cofrnet.utils import generate_connections\n",
    "from aix360.algorithms.cofrnet.utils import process_data\n",
    "from aix360.algorithms.cofrnet.utils import train\n",
    "from aix360.algorithms.cofrnet.utils import OnlyTabularDataset\n",
    "from aix360.algorithms.cofrnet.CoFrNet import CoFrNet_Model\n",
    "from aix360.algorithms.cofrnet.CoFrNet import generate_connections\n",
    "from aix360.algorithms.cofrnet.CoFrNet import CoFrNet_Explainer\n",
    "from torch.utils.data import DataLoader\n",
    "from tqdm import tqdm\n",
    "import numpy as np \n",
    "from torch.utils.data import Dataset\n",
    "import torch # import main library\n",
    "import torch.nn as nn # import modules\n",
    "from torch.autograd import Function # import Function to create custom activations\n",
    "from torch.nn.parameter import Parameter # import Parameter to create custom activations with learnable parameters\n",
    "import torch.nn.functional as F # import torch functions\n",
    "from sklearn.preprocessing import MinMaxScaler\n",
    "from sklearn.model_selection import train_test_split  \n",
    "import torch.optim as optim\n",
    "import random\n",
    "\n",
    "\n",
    "\n",
    "seed_num = 5\n",
    "random.seed(seed_num)\n",
    "torch.manual_seed(seed_num)\n",
    "np.random.seed(seed_num)"
   ]
  },
  {
   "cell_type": "markdown",
   "metadata": {},
   "source": [
    "###### Setting Up CoFrNet"
   ]
  },
  {
   "cell_type": "code",
   "execution_count": null,
   "metadata": {},
   "outputs": [],
   "source": [
    "'''\n",
    "input_size: number of features in your dataset\n",
    "output_size: number of classification categories (number of outputs)\n",
    "cofrnet_version: CoFrNet Variant to be created (see paper for details)\n",
    "network depth: depth of selected CoFrNet Variant. For example, if you select diag_ladder_of_ladder_combined, \n",
    "                the diagonalized section of the network will have depth 13 and the network will explore up to \n",
    "                order 13 interactions. \n",
    "'''\n",
    "network_depth = 13\n",
    "input_size = 30\n",
    "output_size = 2 \n",
    "cofrnet_version = \"diag_ladder_of_ladder_combined\"\n",
    "#Create CoFrNet\n",
    "model = CoFrNet_Model(generate_connections(network_depth, \n",
    "                                            input_size, \n",
    "                                            output_size, \n",
    "                                            cofrnet_version))\n"
   ]
  },
  {
   "cell_type": "markdown",
   "metadata": {},
   "source": [
    "###### Get Data"
   ]
  },
  {
   "cell_type": "code",
   "execution_count": null,
   "metadata": {},
   "outputs": [],
   "source": [
    "data = load_breast_cancer()\n",
    "X = torch.from_numpy(data['data'])\n",
    "y = torch.from_numpy(data['target'])\n",
    "from sklearn.preprocessing import LabelEncoder\n",
    "le = LabelEncoder()\n",
    "y = le.fit_transform(y)\n",
    "from sklearn.preprocessing import StandardScaler\n",
    "sc = MinMaxScaler(feature_range=(0,1))\n",
    "X = sc.fit_transform(X)\n",
    "X.argmax()\n",
    "from sklearn.model_selection import train_test_split\n",
    "X_train, X_test, y_train, y_test = train_test_split(X,\n",
    "                                                y,\n",
    "                                                test_size = 0.3,\n",
    "                                                random_state = 100,\n",
    "                                                shuffle = True)\n",
    "X_train, X_val, y_train, y_val = train_test_split(X_train,\n",
    "                                                y_train,\n",
    "                                                test_size=0.05,\n",
    "                                                random_state=100,\n",
    "                                                shuffle = True)\n",
    "#CONVERTING TO TENSOR\n",
    "tensor_x_train = torch.Tensor(X_train)\n",
    "tensor_x_val = torch.Tensor(X_val)\n",
    "tensor_x_test = torch.Tensor(X_test)\n",
    "tensor_y_val = torch.Tensor(y_val).long()\n",
    "tensor_y_train = torch.Tensor(y_train).long()\n",
    "tensor_y_test = torch.Tensor(y_test).long()\n",
    "\n",
    "train_dataset = OnlyTabularDataset(tensor_x_train, \n",
    "                                tensor_y_train)\n",
    "\n",
    "batch_size = 100\n",
    "dataloader = DataLoader(train_dataset, batch_size) "
   ]
  },
  {
   "cell_type": "markdown",
   "metadata": {},
   "source": [
    "###### Training"
   ]
  },
  {
   "cell_type": "code",
   "execution_count": null,
   "metadata": {},
   "outputs": [],
   "source": [
    "'''\n",
    "Use Train Module from Utils to Train\n",
    "'''\n",
    "train(model, dataloader, output_size)"
   ]
  },
  {
   "cell_type": "markdown",
   "metadata": {},
   "source": [
    "###### Print Accuracies, Continued Fraction, Importances"
   ]
  },
  {
   "cell_type": "code",
   "execution_count": null,
   "metadata": {},
   "outputs": [],
   "source": [
    "'''\n",
    "Print Accuracy of Network\n",
    "'''\n",
    "explainer = CoFrNet_Explainer(model)\n",
    "explainer.print_accuracy(tensor_x_test, y_test)"
   ]
  }
 ],
 "metadata": {
  "interpreter": {
   "hash": "31f2aee4e71d21fbe5cf8b01ff0e069b9275f58929596ceb00d14d90e3e16cd6"
  },
  "kernelspec": {
   "display_name": "Python 3.8.2 64-bit",
   "language": "python",
   "name": "python3"
  },
  "language_info": {
   "name": "python",
   "version": "3.8.2"
  },
  "orig_nbformat": 4
 },
 "nbformat": 4,
 "nbformat_minor": 2
}
