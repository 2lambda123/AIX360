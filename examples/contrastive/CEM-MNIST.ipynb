{
 "cells": [
  {
   "cell_type": "markdown",
   "metadata": {},
   "source": [
    "## CEMExplainer: MNIST Example\n",
    "- This notebook showcases an example of how to use the CEMExplainer from [AIX360](https://github.com/IBM/AIX360) to obtain contrastive explanations i.e. *pertinent negatives (PNs)* and *pertinent postitives (PPs)* for predictions made by a model trained on MNIST data. \n",
    "- The CEMExplainer is an implementation of the [contrastive explanation method](https://arxiv.org/abs/1802.07623).\n",
    "- The default location of this notebook is aix360/examples/constrastive/ folder. This notebook uses trained models which are accessed from aix360/models/CEM/ folder."
   ]
  },
  {
   "cell_type": "markdown",
   "metadata": {},
   "source": [
    "#### Import statements"
   ]
  },
  {
   "cell_type": "code",
   "execution_count": 1,
   "metadata": {},
   "outputs": [
    {
     "name": "stderr",
     "output_type": "stream",
     "text": [
      "Using TensorFlow backend.\n"
     ]
    }
   ],
   "source": [
    "import os\n",
    "import sys\n",
    "from keras.models import model_from_json\n",
    "from PIL import Image\n",
    "from matplotlib import pyplot as plt\n",
    "import numpy as np\n",
    "\n",
    "from aix360.algorithms.contrastive import CEMExplainer, KerasClassifier\n",
    "from aix360.datasets import MNISTDataset"
   ]
  },
  {
   "cell_type": "markdown",
   "metadata": {},
   "source": [
    "#### Load MNIST data"
   ]
  },
  {
   "cell_type": "code",
   "execution_count": 2,
   "metadata": {},
   "outputs": [],
   "source": [
    "# load MNIST data and normalize it in the range [-0.5, 0.5]\n",
    "data = MNISTDataset()"
   ]
  },
  {
   "cell_type": "code",
   "execution_count": 3,
   "metadata": {},
   "outputs": [
    {
     "name": "stdout",
     "output_type": "stream",
     "text": [
      "MNIST train data range  : ( -0.5 , 0.5 )\n",
      "MNIST test data range   : ( -0.5 , 0.5 )\n",
      "MNIST train data shape  : (55000, 28, 28, 1)\n",
      "MNIST test data shape   : (10000, 28, 28, 1)\n",
      "MNIST train labels shape: (10000, 10)\n",
      "MNIST test labels shape : (10000, 10)\n"
     ]
    }
   ],
   "source": [
    "# print the shape of train and test data\n",
    "print(\"MNIST train data range  :\", \"(\", np.min(data.train_data), \",\", np.max(data.train_data), \")\")\n",
    "print(\"MNIST test data range   :\", \"(\", np.min(data.train_data), \",\",  np.max(data.train_data), \")\")\n",
    "print(\"MNIST train data shape  :\", data.train_data.shape)\n",
    "print(\"MNIST test data shape   :\", data.test_data.shape)\n",
    "print(\"MNIST train labels shape:\", data.test_labels.shape)\n",
    "print(\"MNIST test labels shape :\", data.test_labels.shape)"
   ]
  },
  {
   "cell_type": "markdown",
   "metadata": {},
   "source": [
    "#### Load a trained MNIST model\n",
    "- This notebook uses a trained MNIST model. The code to train this model is available [here](https://github.com/huanzhang12/ZOO-Attack/blob/master/train_models.py). Note that the model outputs logits and does not use a softmax function. "
   ]
  },
  {
   "cell_type": "code",
   "execution_count": 4,
   "metadata": {},
   "outputs": [
    {
     "name": "stderr",
     "output_type": "stream",
     "text": [
      "WARNING: Logging before flag parsing goes to stderr.\n",
      "W0803 10:50:01.064849 140678942381888 deprecation_wrapper.py:119] From /home/vijay/anaconda3/envs/aix360/lib/python3.6/site-packages/keras/backend/tensorflow_backend.py:517: The name tf.placeholder is deprecated. Please use tf.compat.v1.placeholder instead.\n",
      "\n",
      "W0803 10:50:01.068910 140678942381888 deprecation_wrapper.py:119] From /home/vijay/anaconda3/envs/aix360/lib/python3.6/site-packages/keras/backend/tensorflow_backend.py:4138: The name tf.random_uniform is deprecated. Please use tf.random.uniform instead.\n",
      "\n",
      "W0803 10:50:01.106316 140678942381888 deprecation_wrapper.py:119] From /home/vijay/anaconda3/envs/aix360/lib/python3.6/site-packages/keras/backend/tensorflow_backend.py:3976: The name tf.nn.max_pool is deprecated. Please use tf.nn.max_pool2d instead.\n",
      "\n",
      "W0803 10:50:01.249321 140678942381888 deprecation_wrapper.py:119] From /home/vijay/anaconda3/envs/aix360/lib/python3.6/site-packages/keras/backend/tensorflow_backend.py:174: The name tf.get_default_session is deprecated. Please use tf.compat.v1.get_default_session instead.\n",
      "\n",
      "W0803 10:50:01.250549 140678942381888 deprecation_wrapper.py:119] From /home/vijay/anaconda3/envs/aix360/lib/python3.6/site-packages/keras/backend/tensorflow_backend.py:181: The name tf.ConfigProto is deprecated. Please use tf.compat.v1.ConfigProto instead.\n",
      "\n",
      "W0803 10:50:01.251479 140678942381888 deprecation_wrapper.py:119] From /home/vijay/anaconda3/envs/aix360/lib/python3.6/site-packages/keras/backend/tensorflow_backend.py:186: The name tf.Session is deprecated. Please use tf.compat.v1.Session instead.\n",
      "\n"
     ]
    },
    {
     "name": "stdout",
     "output_type": "stream",
     "text": [
      "_________________________________________________________________\n",
      "Layer (type)                 Output Shape              Param #   \n",
      "=================================================================\n",
      "conv2d_5 (Conv2D)            (None, 26, 26, 32)        320       \n",
      "_________________________________________________________________\n",
      "activation_7 (Activation)    (None, 26, 26, 32)        0         \n",
      "_________________________________________________________________\n",
      "conv2d_6 (Conv2D)            (None, 24, 24, 32)        9248      \n",
      "_________________________________________________________________\n",
      "activation_8 (Activation)    (None, 24, 24, 32)        0         \n",
      "_________________________________________________________________\n",
      "max_pooling2d_3 (MaxPooling2 (None, 12, 12, 32)        0         \n",
      "_________________________________________________________________\n",
      "conv2d_7 (Conv2D)            (None, 10, 10, 64)        18496     \n",
      "_________________________________________________________________\n",
      "activation_9 (Activation)    (None, 10, 10, 64)        0         \n",
      "_________________________________________________________________\n",
      "conv2d_8 (Conv2D)            (None, 8, 8, 64)          36928     \n",
      "_________________________________________________________________\n",
      "activation_10 (Activation)   (None, 8, 8, 64)          0         \n",
      "_________________________________________________________________\n",
      "max_pooling2d_4 (MaxPooling2 (None, 4, 4, 64)          0         \n",
      "_________________________________________________________________\n",
      "flatten_2 (Flatten)          (None, 1024)              0         \n",
      "_________________________________________________________________\n",
      "dense_4 (Dense)              (None, 200)               205000    \n",
      "_________________________________________________________________\n",
      "activation_11 (Activation)   (None, 200)               0         \n",
      "_________________________________________________________________\n",
      "dense_5 (Dense)              (None, 200)               40200     \n",
      "_________________________________________________________________\n",
      "activation_12 (Activation)   (None, 200)               0         \n",
      "_________________________________________________________________\n",
      "dense_6 (Dense)              (None, 10)                2010      \n",
      "=================================================================\n",
      "Total params: 312,202\n",
      "Trainable params: 312,202\n",
      "Non-trainable params: 0\n",
      "_________________________________________________________________\n"
     ]
    }
   ],
   "source": [
    "# path to mnist related models\n",
    "model_path = '../../aix360/models/CEM'\n",
    "\n",
    "def load_model(model_json_file, model_wt_file):\n",
    "    \n",
    "    # read model json file\n",
    "    with open(model_json_file, 'r') as f:\n",
    "        model = model_from_json(f.read())\n",
    "    \n",
    "    # read model weights file\n",
    "    model.load_weights(model_wt_file)\n",
    "    \n",
    "    return model\n",
    "    \n",
    "\n",
    "# load MNIST model using its json and wt files\n",
    "mnist_model = load_model(os.path.join(model_path, 'mnist.json'), os.path.join(model_path, 'mnist'))\n",
    "\n",
    "# print model summary\n",
    "mnist_model.summary()"
   ]
  },
  {
   "cell_type": "markdown",
   "metadata": {},
   "source": [
    "####  Load a trained convolutional autoencoder model (optional)\n",
    "- This notebook uses a trained convolutional autoencoder model. The code to train this model is available [here](https://github.com/chunchentu/autoencoder). "
   ]
  },
  {
   "cell_type": "code",
   "execution_count": 5,
   "metadata": {},
   "outputs": [
    {
     "name": "stderr",
     "output_type": "stream",
     "text": [
      "W0803 10:50:01.503559 140678942381888 deprecation_wrapper.py:119] From /home/vijay/anaconda3/envs/aix360/lib/python3.6/site-packages/keras/backend/tensorflow_backend.py:2018: The name tf.image.resize_nearest_neighbor is deprecated. Please use tf.compat.v1.image.resize_nearest_neighbor instead.\n",
      "\n"
     ]
    },
    {
     "name": "stdout",
     "output_type": "stream",
     "text": [
      "_________________________________________________________________\n",
      "Layer (type)                 Output Shape              Param #   \n",
      "=================================================================\n",
      "sequential_2 (Sequential)    (None, 14, 14, 1)         2625      \n",
      "_________________________________________________________________\n",
      "conv2d_4 (Conv2D)            (None, 14, 14, 16)        160       \n",
      "_________________________________________________________________\n",
      "activation_3 (Activation)    (None, 14, 14, 16)        0         \n",
      "_________________________________________________________________\n",
      "up_sampling2d_1 (UpSampling2 (None, 28, 28, 16)        0         \n",
      "_________________________________________________________________\n",
      "conv2d_5 (Conv2D)            (None, 28, 28, 16)        2320      \n",
      "_________________________________________________________________\n",
      "activation_4 (Activation)    (None, 28, 28, 16)        0         \n",
      "_________________________________________________________________\n",
      "conv2d_6 (Conv2D)            (None, 28, 28, 1)         145       \n",
      "=================================================================\n",
      "Total params: 5,250\n",
      "Trainable params: 5,250\n",
      "Non-trainable params: 0\n",
      "_________________________________________________________________\n"
     ]
    }
   ],
   "source": [
    "# load the trained convolutional autoencoder model\n",
    "ae_model = load_model(os.path.join(model_path, 'mnist_AE_1_decoder.json'), \n",
    "                      os.path.join(model_path, 'mnist_AE_1_decoder.h5'))\n",
    "# print model summary\n",
    "ae_model.summary()\n"
   ]
  },
  {
   "cell_type": "markdown",
   "metadata": {},
   "source": [
    "#### Initialize CEM Explainer to explain model predictions"
   ]
  },
  {
   "cell_type": "code",
   "execution_count": 6,
   "metadata": {},
   "outputs": [],
   "source": [
    "# wrap mnist_model into a framework independent class structure\n",
    "mymodel = KerasClassifier(mnist_model)\n",
    "\n",
    "# initialize explainer object\n",
    "explainer = CEMExplainer(mymodel)"
   ]
  },
  {
   "cell_type": "markdown",
   "metadata": {},
   "source": [
    "#### Explain an input instance"
   ]
  },
  {
   "cell_type": "code",
   "execution_count": 7,
   "metadata": {},
   "outputs": [
    {
     "name": "stdout",
     "output_type": "stream",
     "text": [
      "Predicted class: [3]\n",
      "Predicted logits: [[-11.279337    0.7362492  -9.008647   19.396713   -8.286124   14.442825\n",
      "   -1.3170446 -11.587322   -0.9921855   1.0182219]]\n"
     ]
    },
    {
     "data": {
      "image/png": "[encoded data removed]",
      "text/plain": [
       "<Figure size 432x288 with 1 Axes>"
      ]
     },
     "metadata": {
      "needs_background": "light"
     },
     "output_type": "display_data"
    }
   ],
   "source": [
    "# choose an input image\n",
    "image_id = 340\n",
    "input_image = data.test_data[image_id]\n",
    "\n",
    "# rescale values from [-0.5, 0.5] to [0, 255] for plotting\n",
    "plt.imshow((input_image[:,:,0] + 0.5)*255, cmap=\"gray\")\n",
    "\n",
    "# check model prediction\n",
    "print(\"Predicted class:\", mymodel.predict_classes(np.expand_dims(input_image, axis=0)))\n",
    "print(\"Predicted logits:\", mymodel.predict(np.expand_dims(input_image, axis=0)))"
   ]
  },
  {
   "cell_type": "markdown",
   "metadata": {},
   "source": [
    "##### Observation: \n",
    "\n",
    "Although the above image is classified as digit 3 by the model, it could have been classified as digit 5 as well since it has similarities to the digit 5. We now employ the CEMExplainer from AIX360 to compute pertinent positive and pertinent negative explanations, which help us understand why the image was classified as digit 3 by the model and not as digit 5. "
   ]
  },
  {
   "cell_type": "markdown",
   "metadata": {},
   "source": [
    "#### Obtain Pertinent Negative (PN) explanation"
   ]
  },
  {
   "cell_type": "code",
   "execution_count": 8,
   "metadata": {},
   "outputs": [
    {
     "name": "stderr",
     "output_type": "stream",
     "text": [
      "W0803 10:50:02.457590 140678942381888 deprecation_wrapper.py:119] From /home/vijay/anaconda3/envs/aix360/lib/python3.6/site-packages/aix360/algorithms/contrastive/CEM_aen.py:150: The name tf.train.polynomial_decay is deprecated. Please use tf.compat.v1.train.polynomial_decay instead.\n",
      "\n",
      "W0803 10:50:02.467044 140678942381888 deprecation.py:323] From /home/vijay/anaconda3/envs/aix360/lib/python3.6/site-packages/tensorflow/python/keras/optimizer_v2/learning_rate_schedule.py:409: div (from tensorflow.python.ops.math_ops) is deprecated and will be removed in a future version.\n",
      "Instructions for updating:\n",
      "Deprecated in favor of operator or tf.math.divide.\n",
      "W0803 10:50:02.474853 140678942381888 deprecation_wrapper.py:119] From /home/vijay/anaconda3/envs/aix360/lib/python3.6/site-packages/aix360/algorithms/contrastive/CEM_aen.py:153: The name tf.train.GradientDescentOptimizer is deprecated. Please use tf.compat.v1.train.GradientDescentOptimizer instead.\n",
      "\n",
      "W0803 10:50:02.534118 140678942381888 deprecation.py:323] From /home/vijay/anaconda3/envs/aix360/lib/python3.6/site-packages/tensorflow/python/ops/math_grad.py:1250: add_dispatch_support.<locals>.wrapper (from tensorflow.python.ops.array_ops) is deprecated and will be removed in a future version.\n",
      "Instructions for updating:\n",
      "Use tf.where in 2.0, which has the same broadcast rule as np.where\n"
     ]
    },
    {
     "name": "stdout",
     "output_type": "stream",
     "text": [
      "iter:0 const:[10.]\n",
      "Loss_Overall:117.3156, Loss_Attack:65.3037\n",
      "Loss_L2Dist:1.1484, Loss_L1Dist:6.2333, AE_loss:50.240135192871094\n",
      "target_lab_score:15.8465, max_nontarget_lab_score:19.3161\n",
      "\n",
      "iter:500 const:[10.]\n",
      "Loss_Overall:5731.0386, Loss_Attack:0.0000\n",
      "Loss_L2Dist:295.1370, Loss_L1Dist:372.2983, AE_loss:5398.67138671875\n",
      "target_lab_score:-4.0691, max_nontarget_lab_score:9.3513\n",
      "\n",
      "iter:0 const:[5.]\n",
      "Loss_Overall:100.2937, Loss_Attack:59.5759\n",
      "Loss_L2Dist:0.6385, Loss_L1Dist:4.1246, AE_loss:39.666893005371094\n",
      "target_lab_score:18.3216, max_nontarget_lab_score:16.4064\n",
      "\n",
      "iter:500 const:[5.]\n",
      "Loss_Overall:6569.7109, Loss_Attack:16.6774\n",
      "Loss_L2Dist:305.4800, Loss_L1Dist:381.6533, AE_loss:6209.38818359375\n",
      "target_lab_score:1.2297, max_nontarget_lab_score:7.8942\n",
      "\n",
      "iter:0 const:[2.5]\n",
      "Loss_Overall:74.2821, Loss_Attack:33.0332\n",
      "Loss_L2Dist:0.5359, Loss_L1Dist:3.6111, AE_loss:40.35193634033203\n",
      "target_lab_score:18.9114, max_nontarget_lab_score:15.6981\n",
      "\n",
      "iter:500 const:[2.5]\n",
      "Loss_Overall:6238.6172, Loss_Attack:23.4504\n",
      "Loss_L2Dist:281.3679, Loss_L1Dist:360.9008, AE_loss:5897.708984375\n",
      "target_lab_score:2.0889, max_nontarget_lab_score:2.7088\n",
      "\n",
      "iter:0 const:[1.25]\n",
      "Loss_Overall:59.0087, Loss_Attack:17.0873\n",
      "Loss_L2Dist:0.5046, Loss_L1Dist:3.5153, AE_loss:41.065223693847656\n",
      "target_lab_score:19.1260, max_nontarget_lab_score:15.4562\n",
      "\n",
      "iter:500 const:[1.25]\n",
      "Loss_Overall:6604.8657, Loss_Attack:14.3013\n",
      "Loss_L2Dist:281.1414, Loss_L1Dist:361.9403, AE_loss:6273.22900390625\n",
      "target_lab_score:4.8682, max_nontarget_lab_score:3.4272\n",
      "\n",
      "iter:0 const:[0.625]\n",
      "Loss_Overall:51.0226, Loss_Attack:8.6989\n",
      "Loss_L2Dist:0.4934, Loss_L1Dist:3.4979, AE_loss:41.48050308227539\n",
      "target_lab_score:19.2539, max_nontarget_lab_score:15.3357\n",
      "\n",
      "iter:500 const:[0.625]\n",
      "Loss_Overall:5880.4536, Loss_Attack:4.2246\n",
      "Loss_L2Dist:307.5166, Loss_L1Dist:392.9896, AE_loss:5529.41357421875\n",
      "target_lab_score:0.8791, max_nontarget_lab_score:4.1198\n",
      "\n",
      "iter:0 const:[0.3125]\n",
      "Loss_Overall:47.0586, Loss_Attack:4.3939\n",
      "Loss_L2Dist:0.4888, Loss_L1Dist:3.4828, AE_loss:41.827728271484375\n",
      "target_lab_score:19.3268, max_nontarget_lab_score:15.2665\n",
      "\n",
      "iter:500 const:[0.3125]\n",
      "Loss_Overall:6150.1323, Loss_Attack:2.1761\n",
      "Loss_L2Dist:291.2777, Loss_L1Dist:368.6633, AE_loss:5819.8125\n",
      "target_lab_score:0.9448, max_nontarget_lab_score:3.9814\n",
      "\n",
      "iter:0 const:[0.15625]\n",
      "Loss_Overall:45.0654, Loss_Attack:2.2082\n",
      "Loss_L2Dist:0.4868, Loss_L1Dist:3.4763, AE_loss:42.02281951904297\n",
      "target_lab_score:19.3643, max_nontarget_lab_score:15.2319\n",
      "\n",
      "iter:500 const:[0.15625]\n",
      "Loss_Overall:6265.9688, Loss_Attack:0.4966\n",
      "Loss_L2Dist:286.9196, Loss_L1Dist:359.0903, AE_loss:5942.6435546875\n",
      "target_lab_score:-0.7716, max_nontarget_lab_score:6.0504\n",
      "\n",
      "iter:0 const:[0.078125]\n",
      "Loss_Overall:44.0672, Loss_Attack:1.1069\n",
      "Loss_L2Dist:0.4858, Loss_L1Dist:3.4732, AE_loss:42.12709426879883\n",
      "target_lab_score:19.3832, max_nontarget_lab_score:15.2146\n",
      "\n",
      "iter:500 const:[0.078125]\n",
      "Loss_Overall:6456.3413, Loss_Attack:0.7018\n",
      "Loss_L2Dist:317.7498, Loss_L1Dist:398.9077, AE_loss:6097.9990234375\n",
      "target_lab_score:1.5749, max_nontarget_lab_score:2.5923\n",
      "\n",
      "iter:0 const:[0.0390625]\n",
      "Loss_Overall:43.5620, Loss_Attack:0.5541\n",
      "Loss_L2Dist:0.4854, Loss_L1Dist:3.4722, AE_loss:42.17523956298828\n",
      "target_lab_score:19.3921, max_nontarget_lab_score:15.2067\n",
      "\n",
      "iter:500 const:[0.0390625]\n",
      "Loss_Overall:6328.7046, Loss_Attack:0.3000\n",
      "Loss_L2Dist:294.4442, Loss_L1Dist:373.3748, AE_loss:5996.623046875\n",
      "target_lab_score:4.6621, max_nontarget_lab_score:6.9825\n",
      "\n"
     ]
    }
   ],
   "source": [
    "arg_mode = \"PN\" # Find pertinent negative\n",
    "\n",
    "arg_max_iter = 1000 # Maximum number of iterations to search for the optimal PN for given parameter settings\n",
    "arg_init_const = 10.0 # Initial coefficient value for main loss term that encourages class change\n",
    "arg_b = 9 # No. of updates to the coefficient of the main loss term\n",
    "\n",
    "arg_kappa = 10 # Minimum confidence gap between the PNs (changed) class probability and original class' probability\n",
    "arg_beta = 1e-1 # Controls sparsity of the solution (L1 loss)\n",
    "arg_gamma = 100 # Controls how much to adhere to a (optionally trained) autoencoder\n",
    "\n",
    "\n",
    "(adv_pn, delta_pn, info_pn) = explainer.explain_instance(np.expand_dims(input_image, axis=0), arg_mode, ae_model, arg_kappa, arg_b, \n",
    "                                            arg_max_iter, arg_init_const, arg_beta, arg_gamma)"
   ]
  },
  {
   "cell_type": "code",
   "execution_count": 9,
   "metadata": {},
   "outputs": [
    {
     "name": "stdout",
     "output_type": "stream",
     "text": [
      "[INFO]kappa:10, Orig class:3, Perturbed class:5, Delta class: 8, Orig prob:[[-11.279337    0.7362492  -9.008647   19.396713   -8.286124   14.442825   -1.3170446 -11.587322   -0.9921855   1.0182219]], Perturbed prob:[[ -9.823904   -3.0258849 -12.282337   13.914494   -9.164177   24.124342    0.3995837 -12.929418   -0.087002    2.4819136]], Delta prob:[[-0.50663096 -0.84834933  0.7846163   0.59887445 -1.0884676  -0.28783607  -2.5196645   1.3976169   2.129994    0.20926595]]\n"
     ]
    }
   ],
   "source": [
    "print(info_pn)"
   ]
  },
  {
   "cell_type": "markdown",
   "metadata": {},
   "source": [
    "#### Obtain Pertinent Positive (PP) explanation"
   ]
  },
  {
   "cell_type": "code",
   "execution_count": 10,
   "metadata": {},
   "outputs": [
    {
     "name": "stdout",
     "output_type": "stream",
     "text": [
      "iter:0 const:[10.]\n",
      "Loss_Overall:1271.8158, Loss_Attack:105.5809\n",
      "Loss_L2Dist:0.0000, Loss_L1Dist:0.0000, AE_loss:1166.23486328125\n",
      "target_lab_score:-0.1728, max_nontarget_lab_score:0.3853\n",
      "\n",
      "iter:500 const:[10.]\n",
      "Loss_Overall:1271.8158, Loss_Attack:105.5809\n",
      "Loss_L2Dist:0.0000, Loss_L1Dist:0.0000, AE_loss:1166.23486328125\n",
      "target_lab_score:-0.1728, max_nontarget_lab_score:0.3853\n",
      "\n",
      "iter:0 const:[100.]\n",
      "Loss_Overall:2112.5354, Loss_Attack:859.8530\n",
      "Loss_L2Dist:3.8316, Loss_L1Dist:8.9619, AE_loss:1247.9547119140625\n",
      "target_lab_score:2.8555, max_nontarget_lab_score:1.4540\n",
      "\n",
      "iter:500 const:[100.]\n",
      "Loss_Overall:2813.5281, Loss_Attack:817.9916\n",
      "Loss_L2Dist:21.7097, Loss_L1Dist:32.3632, AE_loss:1970.5904541015625\n",
      "target_lab_score:6.2211, max_nontarget_lab_score:4.4010\n",
      "\n",
      "iter:0 const:[55.]\n",
      "Loss_Overall:1771.9391, Loss_Attack:612.6125\n",
      "Loss_L2Dist:0.6849, Loss_L1Dist:2.7694, AE_loss:1158.36474609375\n",
      "target_lab_score:0.2389, max_nontarget_lab_score:1.3773\n",
      "\n",
      "iter:500 const:[55.]\n",
      "Loss_Overall:2663.4966, Loss_Attack:633.3018\n",
      "Loss_L2Dist:20.6486, Loss_L1Dist:31.4669, AE_loss:2006.3995361328125\n",
      "target_lab_score:5.9188, max_nontarget_lab_score:7.4334\n",
      "\n",
      "iter:0 const:[32.5]\n",
      "Loss_Overall:1496.7809, Loss_Attack:345.4348\n",
      "Loss_L2Dist:0.0753, Loss_L1Dist:0.5746, AE_loss:1151.2132568359375\n",
      "target_lab_score:0.0645, max_nontarget_lab_score:0.6933\n",
      "\n",
      "iter:500 const:[32.5]\n",
      "Loss_Overall:1815.2236, Loss_Attack:264.7164\n",
      "Loss_L2Dist:12.4209, Loss_L1Dist:25.7885, AE_loss:1535.5074462890625\n",
      "target_lab_score:8.3142, max_nontarget_lab_score:6.4593\n",
      "\n",
      "iter:0 const:[21.25]\n",
      "Loss_Overall:1387.5613, Loss_Attack:224.0321\n",
      "Loss_L2Dist:0.0015, Loss_L1Dist:0.0518, AE_loss:1163.5225830078125\n",
      "target_lab_score:-0.1502, max_nontarget_lab_score:0.3925\n",
      "\n",
      "iter:500 const:[21.25]\n",
      "Loss_Overall:1555.0825, Loss_Attack:74.3874\n",
      "Loss_L2Dist:9.9007, Loss_L1Dist:19.1401, AE_loss:1468.88037109375\n",
      "target_lab_score:9.0457, max_nontarget_lab_score:2.5462\n",
      "\n",
      "iter:0 const:[15.625]\n",
      "Loss_Overall:1331.2051, Loss_Attack:164.9702\n",
      "Loss_L2Dist:0.0000, Loss_L1Dist:0.0000, AE_loss:1166.23486328125\n",
      "target_lab_score:-0.1728, max_nontarget_lab_score:0.3853\n",
      "\n",
      "iter:500 const:[15.625]\n",
      "Loss_Overall:1331.2051, Loss_Attack:164.9702\n",
      "Loss_L2Dist:0.0000, Loss_L1Dist:0.0000, AE_loss:1166.23486328125\n",
      "target_lab_score:-0.1728, max_nontarget_lab_score:0.3853\n",
      "\n",
      "iter:0 const:[18.4375]\n",
      "Loss_Overall:1360.8997, Loss_Attack:194.6648\n",
      "Loss_L2Dist:0.0000, Loss_L1Dist:0.0000, AE_loss:1166.23486328125\n",
      "target_lab_score:-0.1728, max_nontarget_lab_score:0.3853\n",
      "\n",
      "iter:500 const:[18.4375]\n",
      "Loss_Overall:1360.8997, Loss_Attack:194.6648\n",
      "Loss_L2Dist:0.0000, Loss_L1Dist:0.0000, AE_loss:1166.23486328125\n",
      "target_lab_score:-0.1728, max_nontarget_lab_score:0.3853\n",
      "\n",
      "iter:0 const:[19.84375]\n",
      "Loss_Overall:1374.3131, Loss_Attack:209.2894\n",
      "Loss_L2Dist:0.0003, Loss_L1Dist:0.0183, AE_loss:1165.021484375\n",
      "target_lab_score:-0.1648, max_nontarget_lab_score:0.3821\n",
      "\n",
      "iter:500 const:[19.84375]\n",
      "Loss_Overall:1758.1250, Loss_Attack:171.5620\n",
      "Loss_L2Dist:8.9867, Loss_L1Dist:16.8015, AE_loss:1575.8961181640625\n",
      "target_lab_score:6.1731, max_nontarget_lab_score:4.8187\n",
      "\n",
      "iter:0 const:[19.140625]\n",
      "Loss_Overall:1367.6649, Loss_Attack:202.0110\n",
      "Loss_L2Dist:0.0001, Loss_L1Dist:0.0081, AE_loss:1165.653076171875\n",
      "target_lab_score:-0.1694, max_nontarget_lab_score:0.3846\n",
      "\n",
      "iter:500 const:[19.140625]\n",
      "Loss_Overall:1673.5901, Loss_Attack:135.8866\n",
      "Loss_L2Dist:7.5158, Loss_L1Dist:15.7103, AE_loss:1528.61669921875\n",
      "target_lab_score:6.8402, max_nontarget_lab_score:3.9396\n",
      "\n"
     ]
    }
   ],
   "source": [
    "arg_mode = \"PP\"  # Find pertinent positive\n",
    "(adv_pp, delta_pp, info_pp) = explainer.explain_instance(np.expand_dims(input_image, axis=0), arg_mode, ae_model, arg_kappa, arg_b, \n",
    "                                            arg_max_iter, arg_init_const, arg_beta, arg_gamma)"
   ]
  },
  {
   "cell_type": "code",
   "execution_count": 11,
   "metadata": {},
   "outputs": [
    {
     "name": "stdout",
     "output_type": "stream",
     "text": [
      "[INFO]kappa:10, Orig class:3, Perturbed class:5, Delta class: 3, Orig prob:[[-11.279337    0.7362492  -9.008647   19.396713   -8.286124   14.442825   -1.3170446 -11.587322   -0.9921855   1.0182219]], Perturbed prob:[[-10.512523     2.5331008   -7.8333354   13.738868    -4.697951   13.911682    -0.17094916  -9.634063    -2.869906    -0.1969316 ]], Delta prob:[[-7.0725145  -1.732577    0.35496587 12.47732    -4.7352133   2.2513726  -5.1536884   0.21767989  1.7942489  -1.3421019 ]]\n"
     ]
    }
   ],
   "source": [
    "print(info_pp)"
   ]
  },
  {
   "cell_type": "markdown",
   "metadata": {},
   "source": [
    "#### Plot Pertinent Negative (PN) and Pertinent Positive (PP) explanations"
   ]
  },
  {
   "cell_type": "code",
   "execution_count": 12,
   "metadata": {},
   "outputs": [
    {
     "data": {
      "image/png": "[encoded data removed]",
      "text/plain": [
       "<Figure size 720x720 with 5 Axes>"
      ]
     },
     "metadata": {
      "needs_background": "light"
     },
     "output_type": "display_data"
    }
   ],
   "source": [
    "# rescale values from [-0.5, 0.5] to [0, 255] for plotting\n",
    "fig0 = (input_image[:,:,0] + 0.5)*255\n",
    "\n",
    "fig1 = (adv_pn[0,:,:,0] + 0.5) * 255\n",
    "fig2 = (fig1 - fig0) #rescaled delta_pn\n",
    "fig3 = (adv_pp[0,:,:,0] + 0.5) * 255\n",
    "fig4 = (fig0 - fig3) #rescaled delta_pp\n",
    "\n",
    "f, axarr = plt.subplots(1, 5, figsize=(10,10))\n",
    "axarr[0].set_title(\"Original\" + \"(\" + str(mymodel.predict_classes(np.expand_dims(input_image, axis=0))[0]) + \")\")\n",
    "axarr[1].set_title(\"Original + PN\" + \"(\" + str(mymodel.predict_classes(adv_pn)[0]) + \")\")\n",
    "axarr[2].set_title(\"PN\")\n",
    "axarr[3].set_title(\"Original + PP\")\n",
    "axarr[4].set_title(\"PP\" + \"(\" + str(mymodel.predict_classes(delta_pp)[0]) + \")\")\n",
    "\n",
    "axarr[0].imshow(fig0, cmap=\"gray\")\n",
    "axarr[1].imshow(fig1, cmap=\"gray\")\n",
    "axarr[2].imshow(fig2, cmap=\"gray\")\n",
    "axarr[3].imshow(fig3, cmap=\"gray\")\n",
    "axarr[4].imshow(fig4, cmap=\"gray\")\n",
    "plt.show()"
   ]
  },
  {
   "cell_type": "markdown",
   "metadata": {},
   "source": [
    "##### Explanation: \n",
    "- The PP highlights the minimum set of pixels which were present in the image for it to be classified as digit 3. Note that both the original image and PP are classified as digit 3 by the classifier. \n",
    "- The PN highlights a small horizontal line at the top whose presence would change the classification of the original image to digit 5 and thus should be absent for the classification to remain digit 3. "
   ]
  },
  {
   "cell_type": "code",
   "execution_count": null,
   "metadata": {},
   "outputs": [],
   "source": []
  }
 ],
 "metadata": {
  "kernelspec": {
   "display_name": "Python 3",
   "language": "python",
   "name": "python3"
  },
  "language_info": {
   "codemirror_mode": {
    "name": "ipython",
    "version": 3
   },
   "file_extension": ".py",
   "mimetype": "text/x-python",
   "name": "python",
   "nbconvert_exporter": "python",
   "pygments_lexer": "ipython3",
   "version": "3.6.9"
  }
 },
 "nbformat": 4,
 "nbformat_minor": 2
}
