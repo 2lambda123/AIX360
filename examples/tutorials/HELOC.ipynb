{
 "cells": [
  {
   "cell_type": "markdown",
   "metadata": {},
   "source": [
    "# Credit Approval Tutorial\n",
    "This tutorial illustrates the use of several methods in the AI Explainability 360 Toolkit  to provide different kinds of explanations suited to different users in the context of a credit approval process enabled by machine learning. We use data from the [FICO Explainable Machine Learning Challenge](https://community.fico.com/s/explainable-machine-learning-challenge) as [described below](#intro). The three types of users (a.k.a. consumers) that we consider are a data scientist, who evaluates the machine learning model before deployment, a loan officer, who makes the final decision based on the model's output, and a bank customer, who wants to understand the reasons for their application result. \n",
    "\n",
    "For the [data scientist](#rule-based-models), we present two directly interpretable rule-based models that provide global understanding of their behavior. These models are produced by the [Boolean Rule Column Generation](#BRCG) (BRCG, class `BooleanRuleCG`) and [Logistic Rule Regression](#LogRR) (LogRR, class `LogisticRuleRegression`) algorithms in AIX360. The former yields very simple OR-of-ANDs classification rules while the latter gives weighted combinations of rules that are more accurate and still interpretable.\n",
    "\n",
    "For the [loan officer](#prototypes), we demonstrate a different way of explaining machine learning predictions by showing examples, specifically _prototypes_ or representatives in the training data that are similar to a given loan applicant and receive the same class label. We use the ProtoDash method (class `ProtodashExplainer`) to find these prototypes.\n",
    "\n",
    "For the [bank customer](#contrastive), we consider the Contrastive Explanations Method (CEM, class `CEMExplainer`) for explaining the predictions of black box models to end users. CEM builds upon the popular approach of highlighting features present in the input instance that are responsible for the model's classification. In addition to these, CEM also identifies features that are (minimally) absent in the input instance, but whose presence would have altered the classification.\n",
    "\n",
    "The tutorial is organized around these three types of consumers, following an introduction to the dataset.\n",
    "1. [Introduction to FICO HELOC Dataset](#intro)\n",
    "2. [Data Scientist: Boolean Rules and Logistic Rule Regression models](#rule-based-models)\n",
    "3. [Loan Officer: Similar samples as explanations for predictions based on HELOC Dataset](#prototypes)\n",
    "4. [Customer: Contrastive Explanations for predictions based on HELOC Dataset](#contrastive)"
   ]
  },
  {
   "cell_type": "markdown",
   "metadata": {},
   "source": [
    "<a name=\"intro\"></a>\n",
    "## 1. Introduction to FICO HELOC Dataset\n",
    "\n",
    "The FICO HELOC dataset contains anonymized information about home equity line of credit (HELOC) applications made by real homeowners. A HELOC is a line of credit typically offered by a US bank as a percentage of home equity (the difference between the current market value of a home and the outstanding balance of all liens, e.g. mortgages). The customers in this dataset have requested a credit line in the range of USD 5,000 - 150,000. The machine learning task we are considering is to use the information about the applicant in their credit report to predict whether they will make timely payments over a two year period. The machine learning prediction can then be used to decide whether the homeowner qualifies for a line of credit and, if so, how much credit should be extended. \n",
    "\n",
    "The HELOC dataset and more information about it, including instructions to download, can be found [here](https://community.fico.com/s/explainable-machine-learning-challenge?tabset-3158a=2).\n",
    "\n",
    "The table below reproduces part of the data dictionary that comes with the HELOC dataset, explaining the predictor variables and target variable. For example, NumSatisfactoryTrades is a predictor variable that counts the number of past credit agreements with the applicant, which resulted in on-time payments. The target variable to predict is a binary variable called RiskPerformance. The value “Bad” indicates that an applicant was 90 days past due or worse at least once over a period of 24 months from when the credit account was opened. The value “Good” indicates that they have made their payments without ever being more than 90 days overdue. The relationship between a predictor variable and the target is indicated in the last column of the table. If a predictor variable is monotonically decreasing with respect to probability of bad = 1, it \n",
    "means that as the value of the variable increases, the probability of the loan application being \"Bad\" decreases, i.e. it becomes more \"good\". For example, ExternalRiskEstimate and NumSatisfactoryTrades are shown as monotonically decreasing. Monotonically increasing has the opposite meaning.\n",
    "\n",
    "\n",
    "|Field | Meaning |Monotonicity Constraint (with respect to probability of bad = 1)|\n",
    "|------|---------|----------------------------------------------------------------|\n",
    "|ExternalRiskEstimate |\tConsolidated version of risk markers |Monotonically Decreasing| \n",
    "|MSinceOldestTradeOpen\t| Months Since Oldest Trade Open | Monotonically Decreasing|\n",
    "|MSinceMostRecentTradeOpen | Months Since Most Recent Trade Open |Monotonically Decreasing\n",
    "|AverageMInFile\t| Average Months in File |Monotonically Decreasing|\n",
    "|NumSatisfactoryTrades |\tNumber Satisfactory Trades |Monotonically Decreasing|\n",
    "|NumTrades60Ever2DerogPubRec |\tNumber Trades 60+ Ever |Monotonically Decreasing|\n",
    "|NumTrades90Ever2DerogPubRec | Number Trades 90+ Ever |Monotonically Decreasing| \n",
    "|PercentTradesNeverDelq\t| Percent Trades Never Delinquent|Monotonically Decreasing|\n",
    "|MSinceMostRecentDelq\t| Months Since Most Recent Delinquency|Monotonically Decreasing|\n",
    "|MaxDelq2PublicRecLast12M |\tMax Delq/Public Records Last 12 Months. See tab \"MaxDelq\" for each category|Values 0-7 are monotonically decreasing|\n",
    "|MaxDelqEver |\tMax Delinquency Ever. See tab \"MaxDelq\" for each category|Values 2-8 are monotonically decreasing|\n",
    "|NumTotalTrades\t| Number of Total Trades (total number of credit accounts)|No constraint|\n",
    "|NumTradesOpeninLast12M\t| Number of Trades Open in Last 12 Months|Monotonically Increasing| \n",
    "|PercentInstallTrades\t| Percent Installment Trades|No constraint|\n",
    "|MSinceMostRecentInqexcl7days |\tMonths Since Most Recent Inq excl 7days|Monotonically Decreasing| \n",
    "|NumInqLast6M\t| Number of Inq Last 6 Months|Monotonically Increasing|\n",
    "|NumInqLast6Mexcl7days\t| Number of Inq Last 6 Months excl 7days. Excluding the last 7 days removes inquiries that are likely due to price comparision shopping. |Monotonically Increasing|\n",
    "|NetFractionRevolvingBurden\t| Net Fraction Revolving Burden. This is revolving balance divided by credit limit |Monotonically Increasing|\n",
    "|NetFractionInstallBurden\t| Net Fraction Installment Burden. This is installment balance divided by original loan amount |Monotonically Increasing| \n",
    "|NumRevolvingTradesWBalance\t| Number Revolving Trades with Balance |No constraint|\n",
    "|NumInstallTradesWBalance\t| Number Installment Trades with Balance |No constraint|\n",
    "|NumBank2NatlTradesWHighUtilization\t| Number Bank/Natl Trades w high utilization ratio |Monotonically Increasing|\n",
    "|PercentTradesWBalance\t| Percent Trades with Balance |No constraint\n",
    "|RiskPerformance\t| Paid as negotiated flag (12-36 Months). String of Good and Bad | Target |\n",
    "\n",
    "\n",
    "#### Storing HELOC dataset to run this notebook\n",
    "- In this notebook, we assume that the HELOC dataset is saved as `./aix360/data/heloc_data/heloc_dataset.csv`, where \".\" is the root directory of the Git repository before running a pip install of aix360 library. \n",
    "- If the data is downloaded after installation, please place the file within the respective folder under site-packages of your virtual environment `path-to-your-virtual-env/lib/python3.6/site-packages/aix360/data/heloc_data/heloc_dataset.csv`\n"
   ]
  },
  {
   "cell_type": "markdown",
   "metadata": {},
   "source": [
    "<a name=\"rule-based-models\"></a>\n",
    "## 2. Data scientist: Boolean Rule and Logistic Rule Regression models\n",
    "In evaluating a machine learning model for deployment, a data scientist would ideally like to understand the behavior of the model as a whole, not just in specific instances (e.g. specific loan applicants). This is especially true in regulated industries such as banking where higher standards of explainability may be required. For example, the data scientist may have to present the model to: 1) technical and business managers for review before deployment, 2) a lending expert to compare the model to the expert's knowledge, or 3) a regulator to check for compliance. Furthermore, it is common for a model to be deployed in a different geography than the one it was trained on. A global view of the model may uncover problems with overfitting and poor generalization to other geographies before deployment.\n",
    "\n",
    "Directly interpretable models can provide such global understanding because they have a sufficiently simple form for their workings to be transparent. Below we present two directly interpretable models in the form of a [Boolean rule (BR)](#BRCG) and a [logistic rule regression (LogRR)](#LogRR) model. The former is produced by the Boolean Rule Column Generation (BRCG) algorithm while the latter is a generalized linear rule model (GLRM), both implemented in AIX360. While both models are interpretable, they provide different trade-offs between model simplicity and accuracy in predicting loan repayment. BRCG yields a very simple set of rules that has reasonable accuracy. LogRR achieves higher accuracy, higher even than some uninterpretable models, while retaining the form of a linear model. Its interpretation is enhanced by [plots as demonstrated below](#visualize)."
   ]
  },
  {
   "cell_type": "markdown",
   "metadata": {},
   "source": [
    "### 2.1. Load and process data for BRCG and LogRR\n",
    "We use the `HELOCDataset` class in AIX360 to load the FICO HELOC data as a DataFrame. The setting `custom_preprocessing=nan_preprocessing` converts special values in the data (coded as negative integers) to `np.nan`, which can be handled properly by BRCG and LogRR, as opposed to replacing them with zeros or mean values. The data is then split into training and test sets using a fixed random seed."
   ]
  },
  {
   "cell_type": "code",
   "execution_count": null,
   "metadata": {},
   "outputs": [],
   "source": [
    "import warnings\n",
    "warnings.filterwarnings('ignore')\n",
    "\n",
    "# Load FICO HELOC data with special values converted to np.nan\n",
    "from aix360.datasets.heloc_dataset import HELOCDataset, nan_preprocessing\n",
    "data = HELOCDataset(custom_preprocessing=nan_preprocessing).data()\n",
    "# Separate target variable\n",
    "y = data.pop('RiskPerformance')\n",
    "\n",
    "# Split data into training and test sets using fixed random seed\n",
    "from sklearn.model_selection import train_test_split\n",
    "dfTrain, dfTest, yTrain, yTest = train_test_split(data, y, random_state=0, stratify=y)\n",
    "dfTrain.head().transpose()"
   ]
  },
  {
   "cell_type": "markdown",
   "metadata": {},
   "source": [
    "BRCG and LogRR require non-binary features to be binarized using the provided `FeatureBinarizer` class. We use the default of nine quantile thresholds (i.e. 10 bins) to binarize ordinal (including continuous-valued) features, include all negations (e.g. '>' comparisons as well as '<='), and also return standardized versions of the original unbinarized ordinal features, which are used by LogRR but not BRCG. Below is the result of binarizing the first 'ExternalRiskEstimate' feature. "
   ]
  },
  {
   "cell_type": "code",
   "execution_count": null,
   "metadata": {},
   "outputs": [],
   "source": [
    "# Binarize data and also return standardized ordinal features\n",
    "from aix360.algorithms.rbm import FeatureBinarizer\n",
    "fb = FeatureBinarizer(negations=True, returnOrd=True)\n",
    "dfTrain, dfTrainStd = fb.fit_transform(dfTrain)\n",
    "dfTest, dfTestStd = fb.transform(dfTest)\n",
    "dfTrain['ExternalRiskEstimate'].head()"
   ]
  },
  {
   "cell_type": "markdown",
   "metadata": {},
   "source": [
    "<a name=\"BRCG\"></a>\n",
    "### 2.2. Run Boolean Rule Column Generation (BRCG)\n",
    "First we consider BRCG, which is designed to produce a very simple OR-of-ANDs rule (known more formally as disjunctive normal form, DNF) or alternatively an AND-of-ORs rule (conjunctive normal form, CNF) to predict whether an applicant will repay the loan on time (Y = 1). For a binary classification problem such as we have here, a DNF rule is equivalent to a *rule set*, where AND clauses in the DNF correspond to individual rules in the rule set. Furthermore, it can be shown that a CNF rule for Y = 1 is equivalent to a DNF rule for Y = 0 [[1]](https://ieeexplore.ieee.org/document/7738856). BRCG is distinguished by its use of the optimization technique of column generation to search the space of possible clauses, which is exponential in size. To learn more about column generation, please see our NeurIPS paper [[2]](http://papers.nips.cc/paper/7716-boolean-decision-rules-via-column-generation). \n",
    "\n",
    "For this dataset, we find that a CNF rule for Y = 1 (i.e. a DNF for Y = 0, enabled by setting `CNF=True`) is slightly better than a DNF rule for Y = 1. The model complexity parameters `lambda0` and `lambda1` penalize the number of clauses in the rule and the number of conditions in each clause. We use the default values of 1e-3 for `lambda0` and `lambda1` (decreasing them did not increase accuracy here) and leave other parameters at their defaults as well. The model is then trained, evaluated, and printed."
   ]
  },
  {
   "cell_type": "code",
   "execution_count": null,
   "metadata": {},
   "outputs": [],
   "source": [
    "# Instantiate BRCG with small complexity penalty and large beam search width\n",
    "from aix360.algorithms.rbm import BooleanRuleCG\n",
    "br = BooleanRuleCG(lambda0=1e-3, lambda1=1e-3, CNF=True)\n",
    "\n",
    "# Train, print, and evaluate model\n",
    "br.fit(dfTrain, yTrain)\n",
    "from sklearn.metrics import accuracy_score\n",
    "print('Training accuracy:', accuracy_score(yTrain, br.predict(dfTrain)))\n",
    "print('Test accuracy:', accuracy_score(yTest, br.predict(dfTest)))\n",
    "print('Predict Y=0 if ANY of the following rules are satisfied, otherwise Y=1:')\n",
    "print(br.explain()['rules'])"
   ]
  },
  {
   "cell_type": "markdown",
   "metadata": {},
   "source": [
    "The returned DNF rule for Y = 0 is indeed very simple with only two clauses, each involving the same two features. It is interesting to see that such a rule can already achieve 69.7% accuracy. 'ExternalRiskEstimate' is a consolidated version of some risk markers (higher is better), while 'NumSatisfactoryTrades' is the number of satisfactory credit accounts. It makes sense therefore that for applicants with more than 17 satisfactory accounts, the ExternalRiskEstimate threshold dividing good (Y = 1) and bad (Y = 0) credit risk is slightly lower (more lenient) than for applicants with fewer satisfactory accounts.\n",
    "\n",
    "We note that AIX360 includes only a heuristic beam search version of BRCG. The published version of BRCG [[2]](http://papers.nips.cc/paper/7716-boolean-decision-rules-via-column-generation) (not implemented in AIX360) uses integer programming to yield slightly more complex rules that are also more accurate (close to 72% test accuracy)."
   ]
  },
  {
   "cell_type": "markdown",
   "metadata": {},
   "source": [
    "<a name=\"LogRR\"></a>\n",
    "### 2.3. Run Logistic Rule Regression (LogRR)\n",
    "Next we consider a LogRR model, which can improve accuracy at the cost of a more complex but still interpretable model. Specifically, LogRR fits a logistic regression model using rule-based features, where column generation is again used to generate promising candidates from the space of all possible rules. Here we are also including unbinarized ordinal features (`useOrd=True`) in addition to rules. Similar to BRCG, the complexity parameters `lambda0`, `lambda1` penalize the number of rules included in the model and the number of conditions in each rule. the The values for `lambda0`, `lambda1` below strike a good balance between accuracy and model complexity, based on our published experience with the FICO HELOC dataset [[3]](http://proceedings.mlr.press/v97/wei19a.html)."
   ]
  },
  {
   "cell_type": "code",
   "execution_count": null,
   "metadata": {},
   "outputs": [],
   "source": [
    "# Instantiate LRR with good complexity penalties and numerical features\n",
    "from aix360.algorithms.rbm import LogisticRuleRegression\n",
    "lrr = LogisticRuleRegression(lambda0=0.005, lambda1=0.001, useOrd=True)\n",
    "\n",
    "# Train, print, and evaluate model\n",
    "lrr.fit(dfTrain, yTrain, dfTrainStd)\n",
    "print('Training accuracy:', accuracy_score(yTrain, lrr.predict(dfTrain, dfTrainStd)))\n",
    "print('Test accuracy:', accuracy_score(yTest, lrr.predict(dfTest, dfTestStd)))\n",
    "print('Probability of Y=1 is predicted as logistic(z) = 1 / (1 + exp(-z))')\n",
    "print('where z is a linear combination of the following rules/numerical features:')\n",
    "lrr.explain()"
   ]
  },
  {
   "cell_type": "markdown",
   "metadata": {},
   "source": [
    "The test accuracy of LogRR is significantly better than that of BRCG and even better than the neural network in the [Loan Officer](#c2) and [Customer](#contrastive) sections. The LogRR model remains directly interpretable as it is a logistic regression model that uses the 36 rule-based and ordinal features shown above (in addition to an intercept term). Rules are distinguished by having one or more conditions on feature values (e.g. AverageMInFile <= 52.0) while ordinal features are marked by just the feature name without conditions (e.g. ExternalRiskEstimate). Being a linear model, feature importance is naturally given by the model coefficients and thus the list is sorted in order of decreasing coefficient magnitude. The list can be truncated if the user wishes to display fewer features.\n",
    "\n",
    "Since the rules in this LogRR model happen to all be single conditions on individual features, the model contains no interactions between features. It is therefore a kind of [generalized additive model (GAM)](https://en.wikipedia.org/wiki/Generalized_additive_model), i.e. a sum of functions of individual features, where these functions are themselves sums of step function components from rules and linear components from unbinarized ordinal features. Thus a better way to visualize the model is by plotting the univariate functions that make up the GAM, as we do next."
   ]
  },
  {
   "cell_type": "markdown",
   "metadata": {},
   "source": [
    "<a name=\"visualize\"></a>\n",
    "### 2.4. Visualize LogRR model as a Generalized Additive Model (GAM)\n",
    "We use the `visualize()` method of `LogisticRuleRegression` to plot the functions in the GAM that corresponds to the LogRR model (more generally, `visualize()` plots the GAM part of a LogRR model, excluding higher-degree rules). The plots show the sizes and shapes of the model's dependences on individual features. These can then be compared to a lending expert's knowledge. In the present case, all plots indicate that the model behaves as we would expect with some interesting nuances. \n",
    "\n",
    "The 36 features shown above involve only 14 of the original features in the data (not including the intercept), as verified below. For example, ExternalRiskEstimate appears in its unbinarized form in row 2 above and also in 3 rules (rows 14, 23, 34)."
   ]
  },
  {
   "cell_type": "code",
   "execution_count": null,
   "metadata": {},
   "outputs": [],
   "source": [
    "dfx = lrr.explain()\n",
    "# Separate 1st-degree rules into (feature, operation, value) to count unique features\n",
    "dfx2 = dfx['rule/numerical feature'].str.split(' ', expand=True)\n",
    "dfx2.columns = ['feature','operation','value']\n",
    "dfx2['feature'].nunique() # includes intercept"
   ]
  },
  {
   "cell_type": "markdown",
   "metadata": {},
   "source": [
    "It follows that there are 14 functions to plot, which we organize into semantic groups below to ease interpretation."
   ]
  },
  {
   "cell_type": "markdown",
   "metadata": {},
   "source": [
    "#### ExternalRiskEstimate\n",
    "As expected from the BRCG Boolean rule above, 'ExternalRiskEstimate' is an important feature positively correlated with good credit risk. The jumps in the plot indicate that applicants with above average 'ExternalRiskEstimate' (the mean is 72) get an additional boost."
   ]
  },
  {
   "cell_type": "code",
   "execution_count": null,
   "metadata": {},
   "outputs": [],
   "source": [
    "lrr.visualize(data, fb, ['ExternalRiskEstimate']);"
   ]
  },
  {
   "cell_type": "markdown",
   "metadata": {},
   "source": [
    "#### Credit inquiries\n",
    "The next two plots illustrate the dependence on the applicant's credit inquiries. The first plot shows a significant penalty for having less than one month since the most recent inquiry ('MSinceMostRecentInqexcl7days' = 0)."
   ]
  },
  {
   "cell_type": "code",
   "execution_count": null,
   "metadata": {
    "scrolled": false
   },
   "outputs": [],
   "source": [
    "lrr.visualize(data, fb, ['MSinceMostRecentInqexcl7days']);"
   ]
  },
  {
   "cell_type": "markdown",
   "metadata": {},
   "source": [
    "The second shows that predicted risk increases with the number of inquiries in the last six months ('NumInqLast6M')."
   ]
  },
  {
   "cell_type": "code",
   "execution_count": null,
   "metadata": {},
   "outputs": [],
   "source": [
    "lrr.visualize(data, fb, ['NumInqLast6M']);"
   ]
  },
  {
   "cell_type": "markdown",
   "metadata": {},
   "source": [
    "#### Debt level\n",
    "The following four plots relate to the applicant's debt level. 'NetFractionRevolvingBurden' is the ratio of revolving debt (e.g. credit card) balance to credit limit, expressed as a percentage, and has a large negative impact on the probability of good credit. A small fraction of applicants (less than 1%) actually have NetFractionRevolvingBurden greater than 100%, i.e. more revolving debt than their credit limit. This might be investigated further by the data scientist."
   ]
  },
  {
   "cell_type": "code",
   "execution_count": null,
   "metadata": {},
   "outputs": [],
   "source": [
    "lrr.visualize(data, fb, ['NetFractionRevolvingBurden']);"
   ]
  },
  {
   "cell_type": "markdown",
   "metadata": {},
   "source": [
    "The second 'NumBank2NatlTradesWHighUtilization' plot shows that the number of accounts (\"trades\") with high utilization (high balance relative to credit limit for each account) also has a large impact, with a drop as soon as one account has high utilization."
   ]
  },
  {
   "cell_type": "code",
   "execution_count": null,
   "metadata": {},
   "outputs": [],
   "source": [
    "lrr.visualize(data, fb, ['NumBank2NatlTradesWHighUtilization']);"
   ]
  },
  {
   "cell_type": "markdown",
   "metadata": {},
   "source": [
    " The third plot shows that the model gives a bonus to applicants who carry balances on no more than five revolving debt accounts."
   ]
  },
  {
   "cell_type": "code",
   "execution_count": null,
   "metadata": {},
   "outputs": [],
   "source": [
    "lrr.visualize(data, fb, ['NumRevolvingTradesWBalance']);"
   ]
  },
  {
   "cell_type": "markdown",
   "metadata": {},
   "source": [
    "The fourth shows an effect from the percentage of accounts with a balance that is much smaller than those from other features."
   ]
  },
  {
   "cell_type": "code",
   "execution_count": null,
   "metadata": {},
   "outputs": [],
   "source": [
    "lrr.visualize(data, fb, ['PercentTradesWBalance']);"
   ]
  },
  {
   "cell_type": "markdown",
   "metadata": {},
   "source": [
    "#### Number and type of accounts\n",
    "The number of \"satisfactory\" accounts (\"trades\") has a significant positive effect on the predicted probability of good credit, with jumps at 12 and 17 accounts."
   ]
  },
  {
   "cell_type": "code",
   "execution_count": null,
   "metadata": {},
   "outputs": [],
   "source": [
    "lrr.visualize(data, fb, ['NumSatisfactoryTrades']);"
   ]
  },
  {
   "cell_type": "markdown",
   "metadata": {},
   "source": [
    "However, having more than 40% as installment debt accounts (e.g. car loans) is seen as a negative."
   ]
  },
  {
   "cell_type": "code",
   "execution_count": null,
   "metadata": {},
   "outputs": [],
   "source": [
    "lrr.visualize(data, fb, ['PercentInstallTrades']);"
   ]
  },
  {
   "cell_type": "markdown",
   "metadata": {},
   "source": [
    "#### Length of credit history\n",
    "The 'AverageMInFile' plot shows that most of the benefit of having a longer average credit history accrues between average ages of 52 and 84 months (four to seven years). "
   ]
  },
  {
   "cell_type": "code",
   "execution_count": null,
   "metadata": {},
   "outputs": [],
   "source": [
    "lrr.visualize(data, fb, ['AverageMInFile']);"
   ]
  },
  {
   "cell_type": "markdown",
   "metadata": {},
   "source": [
    "Similar but smaller gains come when the age of the oldest account ('MSinceOldestTradeOpen') exceeds 122 and 146 months (10-12 years)."
   ]
  },
  {
   "cell_type": "code",
   "execution_count": null,
   "metadata": {},
   "outputs": [],
   "source": [
    "lrr.visualize(data, fb, ['MSinceOldestTradeOpen']);"
   ]
  },
  {
   "cell_type": "markdown",
   "metadata": {},
   "source": [
    "#### Delinquencies\n",
    "The last set of plots looks at the effect of delinquencies. The first plot shows that much of the change due to the percentage of accounts that were never delinquent ('PercentTradesNeverDelq') occurs between 90% and 100%."
   ]
  },
  {
   "cell_type": "code",
   "execution_count": null,
   "metadata": {},
   "outputs": [],
   "source": [
    "lrr.visualize(data, fb, ['PercentTradesNeverDelq']);"
   ]
  },
  {
   "cell_type": "markdown",
   "metadata": {},
   "source": [
    "'MaxDelq2PublicRecLast12M' measures the severity of the applicant's worst delinquency from the last 12 months of the public record. A value of 5 or below indicates that some delinquency has occurred, whether of unknown duration, 30/60/90/120 days delinquent, or a derogatory comment. "
   ]
  },
  {
   "cell_type": "code",
   "execution_count": null,
   "metadata": {},
   "outputs": [],
   "source": [
    "lrr.visualize(data, fb, ['MaxDelq2PublicRecLast12M']);"
   ]
  },
  {
   "cell_type": "markdown",
   "metadata": {},
   "source": [
    "According to the last 'MSinceMostRecentDelq' plot, the effect of the most recent delinquency wears off after 21 months."
   ]
  },
  {
   "cell_type": "code",
   "execution_count": null,
   "metadata": {},
   "outputs": [],
   "source": [
    "lrr.visualize(data, fb, ['MSinceMostRecentDelq']);"
   ]
  },
  {
   "cell_type": "markdown",
   "metadata": {},
   "source": [
    "<a name=\"prototypes\"></a>\n",
    "## 3. Loan Officer: Prototypical explanations for HELOC use case\n",
    "\n",
    "We now show how to generate explanations in the form of selecting prototypical or similar user profiles to an applicant in question that a bank employee such as a loan officer may be interested in. This may help the employee understand the decision of an applicant's HELOC application being accepted or rejected in the context of other similar applications. Note that the selected prototypical applications are profiles that are part of the training set that has been used to train an AI model that predicts good or bad i.e. approved or rejected for these applications. In fact, the method used in this notebook can work even if we are given not just one but a set of user profiles for which we want to find similar profiles from a training dataset. Additionally, the method computes weights for each prototype showcasing its similarity to the user(s) in question.\n",
    "\n",
    "The prototypical explanations in AIX360 are obtained using the Protodash algorithm developed in the following work: [ProtoDash: Fast Interpretable Prototype Selection](https://arxiv.org/abs/1707.01212)\n",
    "\n",
    "We now provide a brief overview of the method. The method takes as input a datapoint (or group of datapoints) that we want to explain with respect to instances in a training set belonging to the same feature space. The method then tries to minimize the maximum mean discrepancy (MMD metric) between the datapoints we want to explain and a prespecified number of instances from the training set that it will select. In other words, it will try to select training instances that have the same distribution as the datapoints we want to explain. The method does greedy selection and has quality guarantees with it also returning importance weights for the chosen prototypical training instances indicative of how similar/representative they are.\n",
    "\n",
    "In this tutorial, we will see two examples of obtaining prototypes, one for a user whose HELOC application was approved and another for a user whose HELOC application was rejected. In each case, we showcase the top five prototypes from the training data along with how similar the feature values were for these prototypes.\n",
    "\n",
    "[Example 1. Obtaining similar samples as explanations for a HELOC applicant predicted as \"Good\"](#good)<br>\n",
    "[Example 2. Obtaining similar samples as explanations for a HELOC applicant predicted as \"Bad\"](#bad)<br>\n",
    "\n",
    "\n",
    "###### Why Protodash?\n",
    "Before we showcase the two examples we provide some motivation for using this method. The method selects applications from the training set that are similar in different ways to the user application we want to explain. For example, a users loan may be rejected justifiably because the number of satisfactory trades he performed were low similar to another rejected user, or because his/her debts were too high similar to a different rejected user. Either of these reasons in isolation may be sufficient for rejection and the method is able to surface a variety of such reasons through the selected prototypes. This is not the case using standard nearest neighbor techniques which use metrics such as euclidean distance, cosine similarity amongst others, where one might get the same type of explanation (i.e. applications with only low number of satisfactory trades). Protodash thus is able to provide a much more well rounded and comprehensive view of why the decision for the applicant may be justifiable.\n",
    "\n",
    "Another benefit of the method is that — since it does distribution matching between the user/users in question and those available in the training set — it could, in principle, be applied also in non-iid settings such as for time series data. Other approaches which find similar profiles using standard distance measures (viz. euclidean, cosine) do not have this property. Additionally, we can also highlight important features for the different prototypes that made them similar to the user/users in question.\n"
   ]
  },
  {
   "cell_type": "markdown",
   "metadata": {},
   "source": [
    "### Import statements\n",
    "\n",
    "Import necessary libraries, frameworks and algorithms."
   ]
  },
  {
   "cell_type": "code",
   "execution_count": null,
   "metadata": {},
   "outputs": [],
   "source": [
    "import warnings\n",
    "warnings.filterwarnings('ignore')\n",
    "\n",
    "import pandas as pd\n",
    "import numpy as np\n",
    "import tensorflow as tf\n",
    "from keras.models import Sequential, Model, load_model, model_from_json\n",
    "from keras.layers import Dense\n",
    "import matplotlib.pyplot as plt\n",
    "from IPython.core.display import display, HTML\n",
    "\n",
    "from aix360.algorithms.contrastive import CEMExplainer, KerasClassifier\n",
    "from aix360.algorithms.protodash import ProtodashExplainer\n",
    "from aix360.datasets.heloc_dataset import HELOCDataset"
   ]
  },
  {
   "cell_type": "markdown",
   "metadata": {},
   "source": [
    "### Load HELOC dataset and show sample applicants"
   ]
  },
  {
   "cell_type": "code",
   "execution_count": null,
   "metadata": {},
   "outputs": [],
   "source": [
    "heloc = HELOCDataset()\n",
    "df = heloc.dataframe()\n",
    "pd.set_option('display.max_rows', 500)\n",
    "pd.set_option('display.max_columns', 24)\n",
    "pd.set_option('display.width', 1000)\n",
    "print(\"Size of HELOC dataset:\", df.shape)\n",
    "print(\"Number of \\\"Good\\\" applicants:\", np.sum(df['RiskPerformance']=='Good'))\n",
    "print(\"Number of \\\"Bad\\\" applicants:\", np.sum(df['RiskPerformance']=='Bad'))\n",
    "print(\"Sample Applicants:\")\n",
    "df.head(10).transpose()"
   ]
  },
  {
   "cell_type": "code",
   "execution_count": null,
   "metadata": {},
   "outputs": [],
   "source": [
    "# Plot (example) distributions for two features\n",
    "print(\"Distribution of ExternalRiskEstimate and NumSatisfactoryTrades columns:\")\n",
    "hist = df.hist(column=['ExternalRiskEstimate', 'NumSatisfactoryTrades'], bins=10)"
   ]
  },
  {
   "cell_type": "markdown",
   "metadata": {},
   "source": [
    "<a name=\"c1\"></a>\n",
    "### Step 1: Process and Normalize HELOC dataset for training\n",
    "\n",
    "We will first process the HELOC dataset before using it to train an NN model that can predict the\n",
    "target variable RiskPerformance. The HELOC dataset is a tabular dataset with numerical values. However, some of the values are negative and need to be filtered. The processed data is stored in the file heloc.npz for easy access. The dataset is also normalized for training.\n",
    "\n",
    "The data processing and the type of model built in this case is different from the Data Scientist persona described above where rule based methods are showcased. This is the reason for going through these steps again for the Loan Officer persona."
   ]
  },
  {
   "cell_type": "markdown",
   "metadata": {},
   "source": [
    "#### a. Process the dataset"
   ]
  },
  {
   "cell_type": "code",
   "execution_count": null,
   "metadata": {},
   "outputs": [],
   "source": [
    "# Clean data and split dataset into train/test\n",
    "(Data, x_train, x_test, y_train_b, y_test_b) = heloc.split()"
   ]
  },
  {
   "cell_type": "markdown",
   "metadata": {},
   "source": [
    "\n",
    "\n",
    "#### b. Normalize the dataset"
   ]
  },
  {
   "cell_type": "code",
   "execution_count": null,
   "metadata": {},
   "outputs": [],
   "source": [
    "Z = np.vstack((x_train, x_test))\n",
    "Zmax = np.max(Z, axis=0)\n",
    "Zmin = np.min(Z, axis=0)\n",
    "\n",
    "#normalize an array of samples to range [-0.5, 0.5]\n",
    "def normalize(V):\n",
    "    VN = (V - Zmin)/(Zmax - Zmin)\n",
    "    VN = VN - 0.5\n",
    "    return(VN)\n",
    "    \n",
    "# rescale a sample to recover original values for normalized values. \n",
    "def rescale(X):\n",
    "    return(np.multiply ( X + 0.5, (Zmax - Zmin) ) + Zmin)\n",
    "\n",
    "N = normalize(Z)\n",
    "xn_train = N[0:x_train.shape[0], :]\n",
    "xn_test  = N[x_train.shape[0]:, :]"
   ]
  },
  {
   "cell_type": "markdown",
   "metadata": {},
   "source": [
    "<a name=\"c2\"></a>\n",
    "### Step 2. Define and train a NN classifier\n",
    "\n",
    "Let us now build a loan approval model based on the HELOC dataset.\n",
    "\n",
    "#### a. Define NN architecture\n",
    "We now define the architecture of a 2-layer neural network classifier whose predictions we will try to interpret. "
   ]
  },
  {
   "cell_type": "code",
   "execution_count": null,
   "metadata": {},
   "outputs": [],
   "source": [
    "# nn with no softmax\n",
    "def nn_small():\n",
    "    model = Sequential()\n",
    "    model.add(Dense(10, input_dim=23, kernel_initializer='normal', activation='relu'))\n",
    "    model.add(Dense(2, kernel_initializer='normal'))    \n",
    "    return model    "
   ]
  },
  {
   "cell_type": "markdown",
   "metadata": {},
   "source": [
    "#### b. Train the NN"
   ]
  },
  {
   "cell_type": "code",
   "execution_count": null,
   "metadata": {},
   "outputs": [],
   "source": [
    "# Set random seeds for repeatability\n",
    "np.random.seed(1) \n",
    "tf.set_random_seed(2) \n",
    "\n",
    "class_names = ['Bad', 'Good']\n",
    "\n",
    "# loss function\n",
    "def fn(correct, predicted):\n",
    "    return tf.nn.softmax_cross_entropy_with_logits(labels=correct, logits=predicted)\n",
    "\n",
    "# compile and print model summary\n",
    "nn = nn_small()\n",
    "nn.compile(loss=fn, optimizer='adam', metrics=['accuracy'])\n",
    "nn.summary()\n",
    "\n",
    "\n",
    "# train model or load a trained model\n",
    "TRAIN_MODEL = False\n",
    "\n",
    "if (TRAIN_MODEL): \n",
    "    nn.fit(xn_train, y_train_b, batch_size=128, epochs=500, verbose=1, shuffle=False)\n",
    "    nn.save_weights(\"heloc_nnsmall.h5\")     \n",
    "else:    \n",
    "    nn.load_weights(\"heloc_nnsmall.h5\")\n",
    "        \n",
    "\n",
    "# evaluate model accuracy        \n",
    "score = nn.evaluate(xn_train, y_train_b, verbose=0) #Compute training set accuracy\n",
    "#print('Train loss:', score[0])\n",
    "print('Train accuracy:', score[1])\n",
    "\n",
    "score = nn.evaluate(xn_test, y_test_b, verbose=0) #Compute test set accuracy\n",
    "#print('Test loss:', score[0])\n",
    "print('Test accuracy:', score[1])"
   ]
  },
  {
   "cell_type": "markdown",
   "metadata": {},
   "source": [
    "<a name=\"good\"></a>\n",
    "### Step 3: Obtain similar samples as explanations for a HELOC applicant predicted as \"Good\" (Example 1)"
   ]
  },
  {
   "cell_type": "markdown",
   "metadata": {},
   "source": [
    "#### a. Normalize the data and chose a particular applicant, whose profile is displayed below."
   ]
  },
  {
   "cell_type": "code",
   "execution_count": null,
   "metadata": {},
   "outputs": [],
   "source": [
    "p_train = nn.predict_classes(xn_train) # Use trained neural network to predict train points\n",
    "p_train = p_train.reshape((p_train.shape[0],1))\n",
    "\n",
    "z_train = np.hstack((xn_train, p_train)) # Store (normalized) instances that were predicted as Good\n",
    "z_train_good = z_train[z_train[:,-1]==1, :]\n",
    "\n",
    "zun_train = np.hstack((x_train, p_train)) # Store (unnormalized) instances that were predicted as Good \n",
    "zun_train_good = zun_train[zun_train[:,-1]==1, :]"
   ]
  },
  {
   "cell_type": "markdown",
   "metadata": {},
   "source": [
    "Let us now consider applicant 8 whose loan was approved. Note that this applicant was also considered for the contrastive explainer, however, we now justify the approved status in a different manner using prototypical examples, which is arguably a better explanation for a bank employee."
   ]
  },
  {
   "cell_type": "code",
   "execution_count": null,
   "metadata": {},
   "outputs": [],
   "source": [
    "idx = 8\n",
    "\n",
    "X = xn_test[idx].reshape((1,) + xn_test[idx].shape)\n",
    "\n",
    "print(\"Chosen Sample:\", idx)\n",
    "print(\"Prediction made by the model:\", class_names[np.argmax(nn.predict_proba(X))])\n",
    "print(\"Prediction probabilities:\", nn.predict_proba(X))\n",
    "print(\"\")\n",
    "\n",
    "# attach the prediction made by the model to X\n",
    "X = np.hstack((X, nn.predict_classes(X).reshape((1,1))))\n",
    "\n",
    "Xun = x_test[idx].reshape((1,) + x_test[idx].shape) \n",
    "dfx = pd.DataFrame.from_records(Xun.astype('double')) # Create dataframe with original feature values\n",
    "dfx[23] = class_names[int(X[0, -1])]\n",
    "dfx.columns = df.columns\n",
    "dfx.transpose()\n"
   ]
  },
  {
   "cell_type": "markdown",
   "metadata": {},
   "source": [
    "#### b. Find similar applicants predicted as \"good\" using the protodash explainer. "
   ]
  },
  {
   "cell_type": "code",
   "execution_count": null,
   "metadata": {},
   "outputs": [],
   "source": [
    "explainer = ProtodashExplainer()\n",
    "(W, S, setValues) = explainer.explain(X, z_train_good, m=5) # Return weights W, Prototypes S and objective function values"
   ]
  },
  {
   "cell_type": "markdown",
   "metadata": {},
   "source": [
    "#### c. Display similar applicant user profiles and the extent to which they are similar to the chosen applicant as indicated by the last row in the table below labelled as \"Weight\"."
   ]
  },
  {
   "cell_type": "code",
   "execution_count": null,
   "metadata": {},
   "outputs": [],
   "source": [
    "dfs = pd.DataFrame.from_records(zun_train_good[S, 0:-1].astype('double'))\n",
    "RP=[]\n",
    "for i in range(S.shape[0]):\n",
    "    RP.append(class_names[int(z_train_good[S[i], -1])]) # Append class names\n",
    "dfs[23] = RP\n",
    "dfs.columns = df.columns  \n",
    "dfs[\"Weight\"] = np.around(W, 5)/np.sum(np.around(W, 5)) # Calculate normalized importance weights\n",
    "dfs.transpose()"
   ]
  },
  {
   "cell_type": "markdown",
   "metadata": {},
   "source": [
    "#### d. Compute how similar a feature of a prototypical user is to the chosen applicant.\n",
    "The more similar the feature of prototypical user is to the applicant, the closer its weight is to 1. We can see below that several features for prototypes are quite similar to the chosen applicant. A human friendly explanation is provided thereafter."
   ]
  },
  {
   "cell_type": "code",
   "execution_count": null,
   "metadata": {},
   "outputs": [],
   "source": [
    "z = z_train_good[S, 0:-1] # Store chosen prototypes\n",
    "eps = 1e-10 # Small constant defined to eliminate divide-by-zero errors\n",
    "fwt = np.zeros(z.shape)\n",
    "for i in range (z.shape[0]):\n",
    "    for j in range(z.shape[1]):\n",
    "        fwt[i, j] = np.exp(-1 * abs(X[0, j] - z[i,j])/(np.std(z[:, j])+eps)) # Compute feature similarity in [0,1]\n",
    "                \n",
    "# move wts to a dataframe to display\n",
    "dfw = pd.DataFrame.from_records(np.around(fwt.astype('double'), 2))\n",
    "dfw.columns = df.columns[:-1]\n",
    "dfw.transpose()        "
   ]
  },
  {
   "cell_type": "markdown",
   "metadata": {},
   "source": [
    "#### Explanation:\n",
    "The above table depicts the five closest user profiles to the chosen applicant. Based on importance weight outputted by the method, we see that the prototype under column zero is the most representative user profile by far. This is (intuitively) confirmed from the feature similarity table above where more than 50% of the features (12 out of 23) of this prototype are identical to that of the chosen user whose prediction we want to explain. Also, the bank employee looking at the prototypical users and their features surmises that the approved applicant belongs to a group of approved users that have practically no debt (NetFractionInstallBurden). This justification gives the employee more confidence in approving the users application.\n"
   ]
  },
  {
   "cell_type": "markdown",
   "metadata": {},
   "source": [
    "<a name=\"bad\"></a>\n",
    "### Example 2. Obtaining similar samples as explanations for a HELOC applicant predicted as \"Bad\". \n",
    "We now consider a user 1272 whose loan was denied. We obtained a contrastive explanation for this user before. Similar to user 8, we now obtain exemplar based explanations for this user to help the bank employee understand the reasons for the rejection. Steps similar to example 1 are followed in this case too, where we first process the data, obtain prototypes and their importance weights, and finally showcase how similar the features are of these prototypes to the user we want to explain."
   ]
  },
  {
   "cell_type": "markdown",
   "metadata": {},
   "source": [
    "#### a. Normalize the data and chose a particular applicant, whose profile is displayed below."
   ]
  },
  {
   "cell_type": "code",
   "execution_count": null,
   "metadata": {},
   "outputs": [],
   "source": [
    "z_train_bad = z_train[z_train[:,-1]==0, :]\n",
    "zun_train_bad = zun_train[zun_train[:,-1]==0, :]"
   ]
  },
  {
   "cell_type": "code",
   "execution_count": null,
   "metadata": {},
   "outputs": [],
   "source": [
    "idx = 1272 #another user to try 2385\n",
    "\n",
    "X = xn_test[idx].reshape((1,) + xn_test[idx].shape)\n",
    "print(\"Chosen Sample:\", idx)\n",
    "print(\"Prediction made by the model:\", class_names[np.argmax(nn.predict_proba(X))])\n",
    "print(\"Prediction probabilities:\", nn.predict_proba(X))\n",
    "print(\"\")\n",
    "\n",
    "X = np.hstack((X, nn.predict_classes(X).reshape((1,1))))\n",
    "\n",
    "# move samples to a dataframe to display\n",
    "Xun = x_test[idx].reshape((1,) + x_test[idx].shape)\n",
    "dfx = pd.DataFrame.from_records(Xun.astype('double'))\n",
    "dfx[23] = class_names[int(X[0, -1])]\n",
    "dfx.columns = df.columns\n",
    "dfx.transpose()"
   ]
  },
  {
   "cell_type": "markdown",
   "metadata": {},
   "source": [
    "#### b. Find similar applicants predicted as \"bad\" using the protodash explainer. "
   ]
  },
  {
   "cell_type": "code",
   "execution_count": null,
   "metadata": {},
   "outputs": [],
   "source": [
    "(W, S, setValues) = explainer.explain(X, z_train_bad, m=5) # Return weights W, Prototypes S and objective function values"
   ]
  },
  {
   "cell_type": "markdown",
   "metadata": {},
   "source": [
    "#### c. Display similar applicant user profiles and the extent to which they are similar to the chosen applicant as indicated by the last row in the table below labelled as \"Weight\"."
   ]
  },
  {
   "cell_type": "code",
   "execution_count": null,
   "metadata": {},
   "outputs": [],
   "source": [
    "# move samples to a dataframe to display\n",
    "dfs = pd.DataFrame.from_records(zun_train_bad[S, 0:-1].astype('double'))\n",
    "RP=[]\n",
    "for i in range(S.shape[0]):\n",
    "    RP.append(class_names[int(z_train_bad[S[i], -1])]) # Append class names\n",
    "dfs[23] = RP\n",
    "dfs.columns = df.columns  \n",
    "dfs[\"Weight\"] = np.around(W, 5)/np.sum(np.around(W, 5)) # Compute normalized importance weights for prototypes\n",
    "dfs.transpose()"
   ]
  },
  {
   "cell_type": "markdown",
   "metadata": {},
   "source": [
    "#### d. Compute how similar a feature of a prototypical user is to the chosen applicant.\n",
    "The more similar the feature of prototypical user is to the applicant, the closer its weight is to 1. We can see below that several features for prototypes are quite similar to the chosen applicant. Following this table we provide human friendly explanation based on this table."
   ]
  },
  {
   "cell_type": "code",
   "execution_count": null,
   "metadata": {},
   "outputs": [],
   "source": [
    "z = z_train_bad[S, 0:-1] # Store the prototypes\n",
    "eps = 1e-10 # Small constant to guard against divide by zero errors\n",
    "fwt = np.zeros(z.shape)\n",
    "for i in range (z.shape[0]): # Compute feature similarity for each prototype\n",
    "    for j in range(z.shape[1]):\n",
    "        fwt[i, j] = np.exp(-1 * abs(X[0, j] - z[i,j])/(np.std(z[:, j])+eps))\n",
    "                \n",
    "# move wts to a dataframe to display\n",
    "dfw = pd.DataFrame.from_records(np.around(fwt.astype('double'), 2))\n",
    "dfw.columns = df.columns[:-1]\n",
    "dfw.transpose()        "
   ]
  },
  {
   "cell_type": "markdown",
   "metadata": {},
   "source": [
    "#### Explanation:\n",
    "Here again, the above table depicts the five closest user profiles to the chosen applicant. Based on importance weight outputted by the method we see that the prototype under column zero is the most representative user profile by far. This is (intuitively) confirmed from the feature similarity table above where 10 features out of 23 of this prototype are highly similar (>0.9) to that of the user we want to explain. Also the bank employee can see that the applicant belongs to a group of rejected applicants with similar deliquency behavior. Realizing that the user also poses similar risk as these other applicants whose loan was rejected, the employee takes the more conservative decision of rejecting the users application as well."
   ]
  },
  {
   "cell_type": "markdown",
   "metadata": {},
   "source": [
    "<a name=\"contrastive\"></a>\n",
    "## 4. Customer: Contrastive explanations for HELOC Use Case\n",
    "\n",
    "We now demonstrate how to compute contrastive explanations using AIX360 and how such explanations can help home owners understand the decisions made by AI models that approve or reject their HELOC applications. \n",
    "\n",
    "Typically, home owners would like to understand why they do not qualify for a line of credit and if so what changes in their application would qualify them. On the other hand, if they qualified, they might want to know what factors led to the approval of their application. \n",
    "\n",
    "In this context, contrastive explanations provide information to applicants about what minimal changes to their profile would have changed the decision of the AI model from reject to accept or vice-versa (_pertinent negatives_). For example, increasing the number of satisfactory trades to a certain value may have led to the acceptance of the application everything else being the same. \n",
    "\n",
    "The method presented here also highlights a minimal set of features and their values that would still maintain the original decision (_pertinent positives_). For example, for an applicant whose HELOC application was approved, the \n",
    "explanation may say that even if the number of satisfactory trades was reduced to a lower number, the loan would have still gotten through.\n",
    "\n",
    "Additionally, organizations (Banks, financial institutions, etc.) would like to understand trends in the behavior of their AI models in approving loan applications, which could be done by studying contrastive explanations for individuals whose loans were either accepted or rejected. Looking at the aggregate statistics of pertinent positives for approved applicants the organization can get insight into what minimal set of features and their values play an important role in acceptances. While studying the aggregate statistics of pertinent negatives the organization can get insight into features that could change the status of rejected applicants and potentially uncover ways that an applicant may game the system by changing potentially non-important features that could alter the models outcome. \n",
    "\n",
    "The contrastive explanations in AIX360 are implemented using the algorithm developed in the following work:\n",
    "###### [Explanations based on the Missing: Towards Contrastive Explanations with Pertinent Negatives](https://arxiv.org/abs/1802.07623)\n",
    "\n",
    "We now provide a brief overview of the method. As mentioned above the algorithm outputs a contrastive explanation which consists of two parts: a) pertinent negatives (PNs) and b) pertinent positives (PPs). PNs identify a minimal set of features which if altered would change the classification of the original input. For example, in the loan case if a person's credit score is increased their loan application status may change from reject to accept. The manner in which the method accomplishes this is by optimizing a change in the prediction probability loss while enforcing an elastic norm constraint that results in minimal change of features and their values. Optionally, an auto-encoder may also be used to force these minimal changes to produce realistic PNs. PPs on the other hand identify a minimal set of features and their values that are sufficient to yield the original input's classification. For example, an individual's loan may still be accepted if the salary was 50K as opposed to 100K. Here again we have an elastic norm term so that the amount of information needed is minimal, however, the first loss term in this case tries to make the original input's class to be the winning class. For a more in-depth discussion, please refer to the above work.\n",
    "\n",
    "\n",
    "The three main steps to obtain a contrastive explanation are shown below. The first two steps are more about processing the data and building an AI model while the third step computes the actual explanation. \n",
    "\n",
    " [Step 1. Process and Normalize HELOC dataset for training](#c1)<br>\n",
    " [Step 2. Define and train a NN classifier](#c2)<br>\n",
    " [Step 3. Compute contrastive explanations for a few applicants](#c3)<br>\n"
   ]
  },
  {
   "cell_type": "markdown",
   "metadata": {},
   "source": [
    "### Load HELOC dataset and show sample applicants"
   ]
  },
  {
   "cell_type": "code",
   "execution_count": 1,
   "metadata": {},
   "outputs": [
    {
     "name": "stderr",
     "output_type": "stream",
     "text": [
      "C:\\Users\\RONNYLUSS\\Anaconda3\\lib\\site-packages\\tensorflow\\python\\framework\\dtypes.py:526: FutureWarning: Passing (type, 1) or '1type' as a synonym of type is deprecated; in a future version of numpy, it will be understood as (type, (1,)) / '(1,)type'.\n",
      "  _np_qint8 = np.dtype([(\"qint8\", np.int8, 1)])\n",
      "C:\\Users\\RONNYLUSS\\Anaconda3\\lib\\site-packages\\tensorflow\\python\\framework\\dtypes.py:527: FutureWarning: Passing (type, 1) or '1type' as a synonym of type is deprecated; in a future version of numpy, it will be understood as (type, (1,)) / '(1,)type'.\n",
      "  _np_quint8 = np.dtype([(\"quint8\", np.uint8, 1)])\n",
      "C:\\Users\\RONNYLUSS\\Anaconda3\\lib\\site-packages\\tensorflow\\python\\framework\\dtypes.py:528: FutureWarning: Passing (type, 1) or '1type' as a synonym of type is deprecated; in a future version of numpy, it will be understood as (type, (1,)) / '(1,)type'.\n",
      "  _np_qint16 = np.dtype([(\"qint16\", np.int16, 1)])\n",
      "C:\\Users\\RONNYLUSS\\Anaconda3\\lib\\site-packages\\tensorflow\\python\\framework\\dtypes.py:529: FutureWarning: Passing (type, 1) or '1type' as a synonym of type is deprecated; in a future version of numpy, it will be understood as (type, (1,)) / '(1,)type'.\n",
      "  _np_quint16 = np.dtype([(\"quint16\", np.uint16, 1)])\n",
      "C:\\Users\\RONNYLUSS\\Anaconda3\\lib\\site-packages\\tensorflow\\python\\framework\\dtypes.py:530: FutureWarning: Passing (type, 1) or '1type' as a synonym of type is deprecated; in a future version of numpy, it will be understood as (type, (1,)) / '(1,)type'.\n",
      "  _np_qint32 = np.dtype([(\"qint32\", np.int32, 1)])\n",
      "C:\\Users\\RONNYLUSS\\Anaconda3\\lib\\site-packages\\tensorflow\\python\\framework\\dtypes.py:535: FutureWarning: Passing (type, 1) or '1type' as a synonym of type is deprecated; in a future version of numpy, it will be understood as (type, (1,)) / '(1,)type'.\n",
      "  np_resource = np.dtype([(\"resource\", np.ubyte, 1)])\n",
      "Using TensorFlow backend.\n",
      "C:\\Users\\RONNYLUSS\\Anaconda3\\lib\\site-packages\\dask\\dataframe\\utils.py:14: FutureWarning: pandas.util.testing is deprecated. Use the functions in the public API at pandas.testing instead.\n",
      "  import pandas.util.testing as tm\n"
     ]
    },
    {
     "name": "stdout",
     "output_type": "stream",
     "text": [
      "Using Heloc dataset:  c:\\users\\ronnyluss\\aix360\\aix360\\datasets\\..\\data\\heloc_data\\heloc_dataset.csv\n",
      "Size of HELOC dataset: (10459, 24)\n",
      "Number of \"Good\" applicants: 5000\n",
      "Number of \"Bad\" applicants: 5459\n",
      "Sample Applicants:\n"
     ]
    },
    {
     "data": {
      "text/html": [
       "<div>\n",
       "<style scoped>\n",
       "    .dataframe tbody tr th:only-of-type {\n",
       "        vertical-align: middle;\n",
       "    }\n",
       "\n",
       "    .dataframe tbody tr th {\n",
       "        vertical-align: top;\n",
       "    }\n",
       "\n",
       "    .dataframe thead th {\n",
       "        text-align: right;\n",
       "    }\n",
       "</style>\n",
       "<table border=\"1\" class=\"dataframe\">\n",
       "  <thead>\n",
       "    <tr style=\"text-align: right;\">\n",
       "      <th></th>\n",
       "      <th>0</th>\n",
       "      <th>1</th>\n",
       "      <th>2</th>\n",
       "      <th>3</th>\n",
       "      <th>4</th>\n",
       "      <th>5</th>\n",
       "      <th>6</th>\n",
       "      <th>7</th>\n",
       "      <th>8</th>\n",
       "      <th>9</th>\n",
       "    </tr>\n",
       "  </thead>\n",
       "  <tbody>\n",
       "    <tr>\n",
       "      <th>ExternalRiskEstimate</th>\n",
       "      <td>55</td>\n",
       "      <td>61</td>\n",
       "      <td>67</td>\n",
       "      <td>66</td>\n",
       "      <td>81</td>\n",
       "      <td>59</td>\n",
       "      <td>54</td>\n",
       "      <td>68</td>\n",
       "      <td>59</td>\n",
       "      <td>61</td>\n",
       "    </tr>\n",
       "    <tr>\n",
       "      <th>MSinceOldestTradeOpen</th>\n",
       "      <td>144</td>\n",
       "      <td>58</td>\n",
       "      <td>66</td>\n",
       "      <td>169</td>\n",
       "      <td>333</td>\n",
       "      <td>137</td>\n",
       "      <td>88</td>\n",
       "      <td>148</td>\n",
       "      <td>324</td>\n",
       "      <td>79</td>\n",
       "    </tr>\n",
       "    <tr>\n",
       "      <th>MSinceMostRecentTradeOpen</th>\n",
       "      <td>4</td>\n",
       "      <td>15</td>\n",
       "      <td>5</td>\n",
       "      <td>1</td>\n",
       "      <td>27</td>\n",
       "      <td>11</td>\n",
       "      <td>7</td>\n",
       "      <td>7</td>\n",
       "      <td>2</td>\n",
       "      <td>4</td>\n",
       "    </tr>\n",
       "    <tr>\n",
       "      <th>AverageMInFile</th>\n",
       "      <td>84</td>\n",
       "      <td>41</td>\n",
       "      <td>24</td>\n",
       "      <td>73</td>\n",
       "      <td>132</td>\n",
       "      <td>78</td>\n",
       "      <td>37</td>\n",
       "      <td>65</td>\n",
       "      <td>138</td>\n",
       "      <td>36</td>\n",
       "    </tr>\n",
       "    <tr>\n",
       "      <th>NumSatisfactoryTrades</th>\n",
       "      <td>20</td>\n",
       "      <td>2</td>\n",
       "      <td>9</td>\n",
       "      <td>28</td>\n",
       "      <td>12</td>\n",
       "      <td>31</td>\n",
       "      <td>25</td>\n",
       "      <td>17</td>\n",
       "      <td>24</td>\n",
       "      <td>19</td>\n",
       "    </tr>\n",
       "    <tr>\n",
       "      <th>NumTrades60Ever2DerogPubRec</th>\n",
       "      <td>3</td>\n",
       "      <td>4</td>\n",
       "      <td>0</td>\n",
       "      <td>1</td>\n",
       "      <td>0</td>\n",
       "      <td>0</td>\n",
       "      <td>0</td>\n",
       "      <td>0</td>\n",
       "      <td>0</td>\n",
       "      <td>0</td>\n",
       "    </tr>\n",
       "    <tr>\n",
       "      <th>NumTrades90Ever2DerogPubRec</th>\n",
       "      <td>0</td>\n",
       "      <td>4</td>\n",
       "      <td>0</td>\n",
       "      <td>1</td>\n",
       "      <td>0</td>\n",
       "      <td>0</td>\n",
       "      <td>0</td>\n",
       "      <td>0</td>\n",
       "      <td>0</td>\n",
       "      <td>0</td>\n",
       "    </tr>\n",
       "    <tr>\n",
       "      <th>PercentTradesNeverDelq</th>\n",
       "      <td>83</td>\n",
       "      <td>100</td>\n",
       "      <td>100</td>\n",
       "      <td>93</td>\n",
       "      <td>100</td>\n",
       "      <td>91</td>\n",
       "      <td>92</td>\n",
       "      <td>83</td>\n",
       "      <td>85</td>\n",
       "      <td>95</td>\n",
       "    </tr>\n",
       "    <tr>\n",
       "      <th>MSinceMostRecentDelq</th>\n",
       "      <td>2</td>\n",
       "      <td>-7</td>\n",
       "      <td>-7</td>\n",
       "      <td>76</td>\n",
       "      <td>-7</td>\n",
       "      <td>1</td>\n",
       "      <td>9</td>\n",
       "      <td>31</td>\n",
       "      <td>5</td>\n",
       "      <td>5</td>\n",
       "    </tr>\n",
       "    <tr>\n",
       "      <th>MaxDelq2PublicRecLast12M</th>\n",
       "      <td>3</td>\n",
       "      <td>0</td>\n",
       "      <td>7</td>\n",
       "      <td>6</td>\n",
       "      <td>7</td>\n",
       "      <td>4</td>\n",
       "      <td>4</td>\n",
       "      <td>6</td>\n",
       "      <td>4</td>\n",
       "      <td>4</td>\n",
       "    </tr>\n",
       "    <tr>\n",
       "      <th>MaxDelqEver</th>\n",
       "      <td>5</td>\n",
       "      <td>8</td>\n",
       "      <td>8</td>\n",
       "      <td>6</td>\n",
       "      <td>8</td>\n",
       "      <td>6</td>\n",
       "      <td>6</td>\n",
       "      <td>6</td>\n",
       "      <td>6</td>\n",
       "      <td>6</td>\n",
       "    </tr>\n",
       "    <tr>\n",
       "      <th>NumTotalTrades</th>\n",
       "      <td>23</td>\n",
       "      <td>7</td>\n",
       "      <td>9</td>\n",
       "      <td>30</td>\n",
       "      <td>12</td>\n",
       "      <td>32</td>\n",
       "      <td>26</td>\n",
       "      <td>18</td>\n",
       "      <td>27</td>\n",
       "      <td>19</td>\n",
       "    </tr>\n",
       "    <tr>\n",
       "      <th>NumTradesOpeninLast12M</th>\n",
       "      <td>1</td>\n",
       "      <td>0</td>\n",
       "      <td>4</td>\n",
       "      <td>3</td>\n",
       "      <td>0</td>\n",
       "      <td>1</td>\n",
       "      <td>3</td>\n",
       "      <td>1</td>\n",
       "      <td>1</td>\n",
       "      <td>3</td>\n",
       "    </tr>\n",
       "    <tr>\n",
       "      <th>PercentInstallTrades</th>\n",
       "      <td>43</td>\n",
       "      <td>67</td>\n",
       "      <td>44</td>\n",
       "      <td>57</td>\n",
       "      <td>25</td>\n",
       "      <td>47</td>\n",
       "      <td>58</td>\n",
       "      <td>44</td>\n",
       "      <td>26</td>\n",
       "      <td>26</td>\n",
       "    </tr>\n",
       "    <tr>\n",
       "      <th>MSinceMostRecentInqexcl7days</th>\n",
       "      <td>0</td>\n",
       "      <td>0</td>\n",
       "      <td>0</td>\n",
       "      <td>0</td>\n",
       "      <td>0</td>\n",
       "      <td>0</td>\n",
       "      <td>0</td>\n",
       "      <td>0</td>\n",
       "      <td>0</td>\n",
       "      <td>0</td>\n",
       "    </tr>\n",
       "    <tr>\n",
       "      <th>NumInqLast6M</th>\n",
       "      <td>0</td>\n",
       "      <td>0</td>\n",
       "      <td>4</td>\n",
       "      <td>5</td>\n",
       "      <td>1</td>\n",
       "      <td>0</td>\n",
       "      <td>4</td>\n",
       "      <td>0</td>\n",
       "      <td>1</td>\n",
       "      <td>6</td>\n",
       "    </tr>\n",
       "    <tr>\n",
       "      <th>NumInqLast6Mexcl7days</th>\n",
       "      <td>0</td>\n",
       "      <td>0</td>\n",
       "      <td>4</td>\n",
       "      <td>4</td>\n",
       "      <td>1</td>\n",
       "      <td>0</td>\n",
       "      <td>4</td>\n",
       "      <td>0</td>\n",
       "      <td>1</td>\n",
       "      <td>6</td>\n",
       "    </tr>\n",
       "    <tr>\n",
       "      <th>NetFractionRevolvingBurden</th>\n",
       "      <td>33</td>\n",
       "      <td>0</td>\n",
       "      <td>53</td>\n",
       "      <td>72</td>\n",
       "      <td>51</td>\n",
       "      <td>62</td>\n",
       "      <td>89</td>\n",
       "      <td>28</td>\n",
       "      <td>68</td>\n",
       "      <td>31</td>\n",
       "    </tr>\n",
       "    <tr>\n",
       "      <th>NetFractionInstallBurden</th>\n",
       "      <td>-8</td>\n",
       "      <td>-8</td>\n",
       "      <td>66</td>\n",
       "      <td>83</td>\n",
       "      <td>89</td>\n",
       "      <td>93</td>\n",
       "      <td>76</td>\n",
       "      <td>48</td>\n",
       "      <td>-8</td>\n",
       "      <td>86</td>\n",
       "    </tr>\n",
       "    <tr>\n",
       "      <th>NumRevolvingTradesWBalance</th>\n",
       "      <td>8</td>\n",
       "      <td>0</td>\n",
       "      <td>4</td>\n",
       "      <td>6</td>\n",
       "      <td>3</td>\n",
       "      <td>12</td>\n",
       "      <td>7</td>\n",
       "      <td>2</td>\n",
       "      <td>7</td>\n",
       "      <td>5</td>\n",
       "    </tr>\n",
       "    <tr>\n",
       "      <th>NumInstallTradesWBalance</th>\n",
       "      <td>1</td>\n",
       "      <td>-8</td>\n",
       "      <td>2</td>\n",
       "      <td>4</td>\n",
       "      <td>1</td>\n",
       "      <td>4</td>\n",
       "      <td>7</td>\n",
       "      <td>2</td>\n",
       "      <td>1</td>\n",
       "      <td>3</td>\n",
       "    </tr>\n",
       "    <tr>\n",
       "      <th>NumBank2NatlTradesWHighUtilization</th>\n",
       "      <td>1</td>\n",
       "      <td>-8</td>\n",
       "      <td>1</td>\n",
       "      <td>3</td>\n",
       "      <td>0</td>\n",
       "      <td>3</td>\n",
       "      <td>2</td>\n",
       "      <td>2</td>\n",
       "      <td>3</td>\n",
       "      <td>1</td>\n",
       "    </tr>\n",
       "    <tr>\n",
       "      <th>PercentTradesWBalance</th>\n",
       "      <td>69</td>\n",
       "      <td>0</td>\n",
       "      <td>86</td>\n",
       "      <td>91</td>\n",
       "      <td>80</td>\n",
       "      <td>94</td>\n",
       "      <td>100</td>\n",
       "      <td>40</td>\n",
       "      <td>90</td>\n",
       "      <td>62</td>\n",
       "    </tr>\n",
       "    <tr>\n",
       "      <th>RiskPerformance</th>\n",
       "      <td>Bad</td>\n",
       "      <td>Bad</td>\n",
       "      <td>Bad</td>\n",
       "      <td>Bad</td>\n",
       "      <td>Bad</td>\n",
       "      <td>Bad</td>\n",
       "      <td>Good</td>\n",
       "      <td>Good</td>\n",
       "      <td>Bad</td>\n",
       "      <td>Bad</td>\n",
       "    </tr>\n",
       "  </tbody>\n",
       "</table>\n",
       "</div>"
      ],
      "text/plain": [
       "                                      0    1    2    3    4    5     6     7    8    9\n",
       "ExternalRiskEstimate                 55   61   67   66   81   59    54    68   59   61\n",
       "MSinceOldestTradeOpen               144   58   66  169  333  137    88   148  324   79\n",
       "MSinceMostRecentTradeOpen             4   15    5    1   27   11     7     7    2    4\n",
       "AverageMInFile                       84   41   24   73  132   78    37    65  138   36\n",
       "NumSatisfactoryTrades                20    2    9   28   12   31    25    17   24   19\n",
       "NumTrades60Ever2DerogPubRec           3    4    0    1    0    0     0     0    0    0\n",
       "NumTrades90Ever2DerogPubRec           0    4    0    1    0    0     0     0    0    0\n",
       "PercentTradesNeverDelq               83  100  100   93  100   91    92    83   85   95\n",
       "MSinceMostRecentDelq                  2   -7   -7   76   -7    1     9    31    5    5\n",
       "MaxDelq2PublicRecLast12M              3    0    7    6    7    4     4     6    4    4\n",
       "MaxDelqEver                           5    8    8    6    8    6     6     6    6    6\n",
       "NumTotalTrades                       23    7    9   30   12   32    26    18   27   19\n",
       "NumTradesOpeninLast12M                1    0    4    3    0    1     3     1    1    3\n",
       "PercentInstallTrades                 43   67   44   57   25   47    58    44   26   26\n",
       "MSinceMostRecentInqexcl7days          0    0    0    0    0    0     0     0    0    0\n",
       "NumInqLast6M                          0    0    4    5    1    0     4     0    1    6\n",
       "NumInqLast6Mexcl7days                 0    0    4    4    1    0     4     0    1    6\n",
       "NetFractionRevolvingBurden           33    0   53   72   51   62    89    28   68   31\n",
       "NetFractionInstallBurden             -8   -8   66   83   89   93    76    48   -8   86\n",
       "NumRevolvingTradesWBalance            8    0    4    6    3   12     7     2    7    5\n",
       "NumInstallTradesWBalance              1   -8    2    4    1    4     7     2    1    3\n",
       "NumBank2NatlTradesWHighUtilization    1   -8    1    3    0    3     2     2    3    1\n",
       "PercentTradesWBalance                69    0   86   91   80   94   100    40   90   62\n",
       "RiskPerformance                     Bad  Bad  Bad  Bad  Bad  Bad  Good  Good  Bad  Bad"
      ]
     },
     "execution_count": 1,
     "metadata": {},
     "output_type": "execute_result"
    }
   ],
   "source": [
    "import warnings\n",
    "warnings.filterwarnings('ignore')\n",
    "\n",
    "heloc = HELOCDataset()\n",
    "df = heloc.dataframe()\n",
    "pd.set_option('display.max_rows', 500)\n",
    "pd.set_option('display.max_columns', 24)\n",
    "pd.set_option('display.width', 1000)\n",
    "print(\"Size of HELOC dataset:\", df.shape)\n",
    "print(\"Number of \\\"Good\\\" applicants:\", np.sum(df['RiskPerformance']=='Good'))\n",
    "print(\"Number of \\\"Bad\\\" applicants:\", np.sum(df['RiskPerformance']=='Bad'))\n",
    "print(\"Sample Applicants:\")\n",
    "df.head(10).transpose()"
   ]
  },
  {
   "cell_type": "code",
   "execution_count": 2,
   "metadata": {},
   "outputs": [
    {
     "name": "stdout",
     "output_type": "stream",
     "text": [
      "Distribution of ExternalRiskEstimate and NumSatisfactoryTrades columns:\n"
     ]
    },
    {
     "data": {
      "image/png": "[encoded data removed]",
      "text/plain": [
       "<Figure size 432x288 with 2 Axes>"
      ]
     },
     "metadata": {
      "needs_background": "light"
     },
     "output_type": "display_data"
    }
   ],
   "source": [
    "# Plot (example) distributions for two features\n",
    "print(\"Distribution of ExternalRiskEstimate and NumSatisfactoryTrades columns:\")\n",
    "hist = df.hist(column=['ExternalRiskEstimate', 'NumSatisfactoryTrades'], bins=10)"
   ]
  },
  {
   "cell_type": "markdown",
   "metadata": {},
   "source": [
    "<a name=\"c1\"></a>\n",
    "### Step 1. Process and Normalize HELOC dataset for training\n",
    "\n",
    "We will first process the HELOC dataset before using it to train an NN model that can predict the\n",
    "target variable RiskPerformance. The HELOC dataset is a tabular dataset with numerical values. However, some of the values are negative and need to be filtered. The processed data is stored in the file heloc.npz for easy access. The dataset is also normalized for training.\n",
    "\n",
    "The data processing and model building is very similar to the Loan Officer persona above, where ProtoDash was the method of choice. We repeat these steps here so that both the use cases can be run independently."
   ]
  },
  {
   "cell_type": "markdown",
   "metadata": {},
   "source": [
    "#### a. Process the dataset"
   ]
  },
  {
   "cell_type": "code",
   "execution_count": 3,
   "metadata": {},
   "outputs": [],
   "source": [
    "# Clean data and split dataset into train/test\n",
    "PROCESS_DATA = False\n",
    "\n",
    "if (PROCESS_DATA): \n",
    "    (Data, x_train, x_test, y_train_b, y_test_b) = heloc.split()\n",
    "    np.savez('heloc.npz', Data=Data, x_train=x_train, x_test=x_test, y_train_b=y_train_b, y_test_b=y_test_b)\n",
    "else:\n",
    "    heloc = np.load('heloc.npz', allow_pickle = True)\n",
    "    Data = heloc['Data']\n",
    "    x_train = heloc['x_train']\n",
    "    x_test  = heloc['x_test']\n",
    "    y_train_b = heloc['y_train_b']\n",
    "    y_test_b  = heloc['y_test_b']"
   ]
  },
  {
   "cell_type": "markdown",
   "metadata": {},
   "source": [
    "\n",
    "\n",
    "#### b. Normalize the dataset"
   ]
  },
  {
   "cell_type": "code",
   "execution_count": 4,
   "metadata": {},
   "outputs": [],
   "source": [
    "Z = np.vstack((x_train, x_test))\n",
    "Zmax = np.max(Z, axis=0)\n",
    "Zmin = np.min(Z, axis=0)\n",
    "\n",
    "#normalize an array of samples to range [-0.5, 0.5]\n",
    "def normalize(V):\n",
    "    VN = (V - Zmin)/(Zmax - Zmin)\n",
    "    VN = VN - 0.5\n",
    "    return(VN)\n",
    "    \n",
    "# rescale a sample to recover original values for normalized values. \n",
    "def rescale(X):\n",
    "    return(np.multiply ( X + 0.5, (Zmax - Zmin) ) + Zmin)\n",
    "\n",
    "N = normalize(Z)\n",
    "xn_train = N[0:x_train.shape[0], :]\n",
    "xn_test  = N[x_train.shape[0]:, :]"
   ]
  },
  {
   "cell_type": "markdown",
   "metadata": {},
   "source": [
    "<a name=\"c2\"></a>\n",
    "### Step 2. Define and train a NN classifier\n",
    "\n",
    "Let us now build a loan approval model based on the HELOC dataset.\n",
    "\n",
    "#### a. Define NN architecture\n",
    "We now define the architecture of a 2-layer neural network classifier whose predictions we will try to interpret. "
   ]
  },
  {
   "cell_type": "code",
   "execution_count": 5,
   "metadata": {},
   "outputs": [],
   "source": [
    "# nn with no softmax\n",
    "def nn_small():\n",
    "    model = Sequential()\n",
    "    model.add(Dense(10, input_dim=23, kernel_initializer='normal', activation='relu'))\n",
    "    model.add(Dense(2, kernel_initializer='normal'))    \n",
    "    return model    "
   ]
  },
  {
   "cell_type": "markdown",
   "metadata": {},
   "source": [
    "#### b. Train the NN"
   ]
  },
  {
   "cell_type": "code",
   "execution_count": 6,
   "metadata": {},
   "outputs": [
    {
     "name": "stdout",
     "output_type": "stream",
     "text": [
      "WARNING:tensorflow:From C:\\Users\\RONNYLUSS\\Anaconda3\\lib\\site-packages\\tensorflow\\python\\ops\\resource_variable_ops.py:435: colocate_with (from tensorflow.python.framework.ops) is deprecated and will be removed in a future version.\n",
      "Instructions for updating:\n",
      "Colocations handled automatically by placer.\n",
      "WARNING:tensorflow:From <ipython-input-6-419b17b58e99>:9: softmax_cross_entropy_with_logits (from tensorflow.python.ops.nn_ops) is deprecated and will be removed in a future version.\n",
      "Instructions for updating:\n",
      "\n",
      "Future major versions of TensorFlow will allow gradients to flow\n",
      "into the labels input on backprop by default.\n",
      "\n",
      "See `tf.nn.softmax_cross_entropy_with_logits_v2`.\n",
      "\n",
      "Model: \"sequential_1\"\n",
      "_________________________________________________________________\n",
      "Layer (type)                 Output Shape              Param #   \n",
      "=================================================================\n",
      "dense_1 (Dense)              (None, 10)                240       \n",
      "_________________________________________________________________\n",
      "dense_2 (Dense)              (None, 2)                 22        \n",
      "=================================================================\n",
      "Total params: 262\n",
      "Trainable params: 262\n",
      "Non-trainable params: 0\n",
      "_________________________________________________________________\n",
      "Train accuracy: 0.7390246987342834\n",
      "Test accuracy: 0.7192058563232422\n"
     ]
    }
   ],
   "source": [
    "# Set random seeds for repeatability\n",
    "np.random.seed(1) \n",
    "tf.set_random_seed(2) \n",
    "\n",
    "class_names = ['Bad', 'Good']\n",
    "\n",
    "# loss function\n",
    "def fn(correct, predicted):\n",
    "    return tf.nn.softmax_cross_entropy_with_logits(labels=correct, logits=predicted)\n",
    "\n",
    "# compile and print model summary\n",
    "nn = nn_small()\n",
    "nn.compile(loss=fn, optimizer='adam', metrics=['accuracy'])\n",
    "nn.summary()\n",
    "\n",
    "\n",
    "# train model or load a trained model\n",
    "TRAIN_MODEL = False\n",
    "\n",
    "if (TRAIN_MODEL):             \n",
    "    nn.fit(xn_train, y_train_b, batch_size=128, epochs=500, verbose=1, shuffle=False)\n",
    "    nn.save_weights(\"heloc_nnsmall.h5\")     \n",
    "else:    \n",
    "    nn.load_weights(\"heloc_nnsmall.h5\")\n",
    "        \n",
    "\n",
    "# evaluate model accuracy        \n",
    "score = nn.evaluate(xn_train, y_train_b, verbose=0) #Compute training set accuracy\n",
    "#print('Train loss:', score[0])\n",
    "print('Train accuracy:', score[1])\n",
    "\n",
    "score = nn.evaluate(xn_test, y_test_b, verbose=0) #Compute test set accuracy\n",
    "#print('Test loss:', score[0])\n",
    "print('Test accuracy:', score[1])"
   ]
  },
  {
   "cell_type": "markdown",
   "metadata": {},
   "source": [
    "<a name=\"c3\"></a>\n",
    "### Step 3. Compute contrastive explanations for a few applicants\n",
    "\n",
    "Given the trained NN model to decide on loan approvals, let us first examine an applicant whose application was denied and what (minimal) changes to his/her application would lead to approval (i.e. finding pertinent negatives). We will then look at another applicant whose loan was approved and ascertain features that would minimally suffice in him/her still getting a positive outcome (i.e. finding pertinent positives).\n",
    "\n",
    "#### a. Compute Pertinent Negatives (PN): \n",
    "\n",
    "In order to compute pertinent negatives, the CEM explainer computes a user profile that is close to the original applicant but for whom the decision of HELOC application is different. The explainer alters a minimal set of features by a minimal (positive) amount. This will help the user whose loan application was initially rejected say, to ascertain how to get it accepted. "
   ]
  },
  {
   "cell_type": "code",
   "execution_count": 7,
   "metadata": {},
   "outputs": [
    {
     "name": "stdout",
     "output_type": "stream",
     "text": [
      "Computing PN for Sample: 1272\n",
      "Prediction made by the model: [[ 0.41141102 -0.3941707 ]]\n",
      "Prediction probabilities: Bad\n",
      "\n",
      "WARNING:tensorflow:From C:\\Users\\RONNYLUSS\\Anaconda3\\lib\\site-packages\\tensorflow\\python\\training\\learning_rate_decay_v2.py:321: div (from tensorflow.python.ops.math_ops) is deprecated and will be removed in a future version.\n",
      "Instructions for updating:\n",
      "Deprecated in favor of operator or tf.math.divide.\n",
      "WARNING:tensorflow:From C:\\Users\\RONNYLUSS\\Anaconda3\\lib\\site-packages\\tensorflow\\python\\ops\\math_ops.py:3066: to_int32 (from tensorflow.python.ops.math_ops) is deprecated and will be removed in a future version.\n",
      "Instructions for updating:\n",
      "Use tf.cast instead.\n",
      "iter:0 const:[10.]\n",
      "Loss_Overall:0.2945, Loss_Attack:0.0000\n",
      "Loss_L2Dist:0.2066, Loss_L1Dist:0.8791, AE_loss:0.0\n",
      "target_lab_score:-1.1283, max_nontarget_lab_score:1.2852\n",
      "\n",
      "iter:500 const:[10.]\n",
      "Loss_Overall:0.1714, Loss_Attack:0.0000\n",
      "Loss_L2Dist:0.1160, Loss_L1Dist:0.5539, AE_loss:0.0\n",
      "target_lab_score:-0.7435, max_nontarget_lab_score:0.8745\n",
      "\n",
      "iter:0 const:[5.]\n",
      "Loss_Overall:0.0679, Loss_Attack:0.0000\n",
      "Loss_L2Dist:0.0377, Loss_L1Dist:0.3023, AE_loss:0.0\n",
      "target_lab_score:-0.2359, max_nontarget_lab_score:0.3172\n",
      "\n",
      "iter:500 const:[5.]\n",
      "Loss_Overall:0.0625, Loss_Attack:0.0000\n",
      "Loss_L2Dist:0.0417, Loss_L1Dist:0.2079, AE_loss:0.0\n",
      "target_lab_score:-0.1189, max_nontarget_lab_score:0.1907\n",
      "\n",
      "iter:0 const:[2.5]\n",
      "Loss_Overall:2.0461, Loss_Attack:2.0414\n",
      "Loss_L2Dist:0.0012, Loss_L1Dist:0.0350, AE_loss:0.0\n",
      "target_lab_score:0.3215, max_nontarget_lab_score:-0.2950\n",
      "\n",
      "iter:500 const:[2.5]\n",
      "Loss_Overall:2.5140, Loss_Attack:2.5140\n",
      "Loss_L2Dist:0.0000, Loss_L1Dist:0.0000, AE_loss:0.0\n",
      "target_lab_score:0.4114, max_nontarget_lab_score:-0.3942\n",
      "\n",
      "iter:0 const:[3.75]\n",
      "Loss_Overall:1.1058, Loss_Attack:1.0789\n",
      "Loss_L2Dist:0.0117, Loss_L1Dist:0.1517, AE_loss:0.0\n",
      "target_lab_score:0.0696, max_nontarget_lab_score:-0.0181\n",
      "\n",
      "iter:500 const:[3.75]\n",
      "Loss_Overall:0.8763, Loss_Attack:0.8409\n",
      "Loss_L2Dist:0.0209, Loss_L1Dist:0.1447, AE_loss:0.0\n",
      "target_lab_score:0.0399, max_nontarget_lab_score:0.0157\n",
      "\n",
      "iter:0 const:[3.125]\n",
      "Loss_Overall:1.9128, Loss_Attack:1.9004\n",
      "Loss_L2Dist:0.0048, Loss_L1Dist:0.0764, AE_loss:0.0\n",
      "target_lab_score:0.2223, max_nontarget_lab_score:-0.1858\n",
      "\n",
      "iter:500 const:[3.125]\n",
      "Loss_Overall:0.1633, Loss_Attack:0.1131\n",
      "Loss_L2Dist:0.0322, Loss_L1Dist:0.1795, AE_loss:0.0\n",
      "target_lab_score:-0.0495, max_nontarget_lab_score:0.1143\n",
      "\n",
      "iter:0 const:[2.8125]\n",
      "Loss_Overall:2.0481, Loss_Attack:2.0403\n",
      "Loss_L2Dist:0.0027, Loss_L1Dist:0.0519, AE_loss:0.0\n",
      "target_lab_score:0.2782, max_nontarget_lab_score:-0.2472\n",
      "\n",
      "iter:500 const:[2.8125]\n",
      "Loss_Overall:2.0633, Loss_Attack:2.0556\n",
      "Loss_L2Dist:0.0026, Loss_L1Dist:0.0509, AE_loss:0.0\n",
      "target_lab_score:0.2808, max_nontarget_lab_score:-0.2501\n",
      "\n",
      "iter:0 const:[2.65625]\n",
      "Loss_Overall:2.0542, Loss_Attack:2.0479\n",
      "Loss_L2Dist:0.0019, Loss_L1Dist:0.0434, AE_loss:0.0\n",
      "target_lab_score:0.2999, max_nontarget_lab_score:-0.2711\n",
      "\n",
      "iter:500 const:[2.65625]\n",
      "Loss_Overall:0.5963, Loss_Attack:0.5599\n",
      "Loss_L2Dist:0.0217, Loss_L1Dist:0.1472, AE_loss:0.0\n",
      "target_lab_score:0.0336, max_nontarget_lab_score:0.0227\n",
      "\n",
      "iter:0 const:[2.734375]\n",
      "Loss_Overall:2.0529, Loss_Attack:2.0459\n",
      "Loss_L2Dist:0.0023, Loss_L1Dist:0.0477, AE_loss:0.0\n",
      "target_lab_score:0.2890, max_nontarget_lab_score:-0.2592\n",
      "\n",
      "iter:500 const:[2.734375]\n",
      "Loss_Overall:2.4931, Loss_Attack:2.4910\n",
      "Loss_L2Dist:0.0003, Loss_L1Dist:0.0175, AE_loss:0.0\n",
      "target_lab_score:0.3664, max_nontarget_lab_score:-0.3446\n",
      "\n",
      "iter:0 const:[2.7734375]\n",
      "Loss_Overall:2.0510, Loss_Attack:2.0435\n",
      "Loss_L2Dist:0.0025, Loss_L1Dist:0.0498, AE_loss:0.0\n",
      "target_lab_score:0.2836, max_nontarget_lab_score:-0.2532\n",
      "\n",
      "iter:500 const:[2.7734375]\n",
      "Loss_Overall:2.7011, Loss_Attack:2.7005\n",
      "Loss_L2Dist:0.0000, Loss_L1Dist:0.0059, AE_loss:0.0\n",
      "target_lab_score:0.3963, max_nontarget_lab_score:-0.3774\n",
      "\n"
     ]
    }
   ],
   "source": [
    "# Some interesting user samples to try: 2344 449 1168 1272\n",
    "idx = 1272\n",
    "\n",
    "X = xn_test[idx].reshape((1,) + xn_test[idx].shape)\n",
    "print(\"Computing PN for Sample:\", idx)\n",
    "print(\"Prediction made by the model:\", nn.predict_proba(X))\n",
    "print(\"Prediction probabilities:\", class_names[np.argmax(nn.predict_proba(X))])\n",
    "print(\"\")\n",
    "\n",
    "mymodel = KerasClassifier(nn)\n",
    "explainer = CEMExplainer(mymodel)\n",
    "\n",
    "arg_mode = 'PN' # Find pertinent negatives\n",
    "arg_max_iter = 1000 # Maximum number of iterations to search for the optimal PN for given parameter settings\n",
    "arg_init_const = 10.0 # Initial coefficient value for main loss term that encourages class change\n",
    "arg_b = 9 # No. of updates to the coefficient of the main loss term\n",
    "arg_kappa = 0.2 # Minimum confidence gap between the PNs (changed) class probability and original class' probability\n",
    "arg_beta = 1e-1 # Controls sparsity of the solution (L1 loss)\n",
    "arg_gamma = 100 # Controls how much to adhere to a (optionally trained) auto-encoder\n",
    "my_AE_model = None # Pointer to an auto-encoder\n",
    "arg_alpha = 0.01 # Penalizes L2 norm of the solution\n",
    "arg_threshold = 1. # Automatically turn off features <= arg_threshold if arg_threshold < 1\n",
    "arg_offset = 0.5 # the model assumes classifier trained on data normalized\n",
    "                # in [-arg_offset, arg_offset] range, where arg_offset is 0 or 0.5\n",
    "# Find PN for applicant 1272\n",
    "(adv_pn, delta_pn, info_pn) = explainer.explain_instance(X, arg_mode, my_AE_model, arg_kappa, arg_b,\n",
    "                                                         arg_max_iter, arg_init_const, arg_beta, arg_gamma,\n",
    "                                                            arg_alpha, arg_threshold, arg_offset)"
   ]
  },
  {
   "cell_type": "markdown",
   "metadata": {},
   "source": [
    "Let us start by examining one particular loan application that was denied for applicant 1272. We showcase below how the decision could have been different through minimal changes to the profile conveyed by the pertinent negative. We also indicate the importance of different features to produce the change in the application status. The column delta in the table below indicates the necessary deviations for each of the features to produce this change. A human friendly explanation is then provided based on these deviations following the feature importance plot."
   ]
  },
  {
   "cell_type": "code",
   "execution_count": 8,
   "metadata": {},
   "outputs": [
    {
     "name": "stdout",
     "output_type": "stream",
     "text": [
      "Sample: 1272\n",
      "prediction(X) [[ 0.41141102 -0.3941707 ]] Bad\n",
      "prediction(Xpn) [[-0.17337188  0.2486928 ]] Good\n"
     ]
    },
    {
     "data": {
      "text/html": [
       "<style  type=\"text/css\" >\n",
       "#T_18bc3d1a_ff3c_11ea_8596_a86daa3ac739row0_col0,#T_18bc3d1a_ff3c_11ea_8596_a86daa3ac739row0_col1,#T_18bc3d1a_ff3c_11ea_8596_a86daa3ac739row0_col2,#T_18bc3d1a_ff3c_11ea_8596_a86daa3ac739row3_col0,#T_18bc3d1a_ff3c_11ea_8596_a86daa3ac739row3_col1,#T_18bc3d1a_ff3c_11ea_8596_a86daa3ac739row3_col2,#T_18bc3d1a_ff3c_11ea_8596_a86daa3ac739row4_col0,#T_18bc3d1a_ff3c_11ea_8596_a86daa3ac739row4_col1,#T_18bc3d1a_ff3c_11ea_8596_a86daa3ac739row4_col2{\n",
       "            background-color:  yellow;\n",
       "        }#T_18bc3d1a_ff3c_11ea_8596_a86daa3ac739row1_col0,#T_18bc3d1a_ff3c_11ea_8596_a86daa3ac739row1_col1,#T_18bc3d1a_ff3c_11ea_8596_a86daa3ac739row1_col2,#T_18bc3d1a_ff3c_11ea_8596_a86daa3ac739row2_col0,#T_18bc3d1a_ff3c_11ea_8596_a86daa3ac739row2_col1,#T_18bc3d1a_ff3c_11ea_8596_a86daa3ac739row2_col2,#T_18bc3d1a_ff3c_11ea_8596_a86daa3ac739row5_col0,#T_18bc3d1a_ff3c_11ea_8596_a86daa3ac739row5_col1,#T_18bc3d1a_ff3c_11ea_8596_a86daa3ac739row5_col2,#T_18bc3d1a_ff3c_11ea_8596_a86daa3ac739row6_col0,#T_18bc3d1a_ff3c_11ea_8596_a86daa3ac739row6_col1,#T_18bc3d1a_ff3c_11ea_8596_a86daa3ac739row6_col2,#T_18bc3d1a_ff3c_11ea_8596_a86daa3ac739row7_col0,#T_18bc3d1a_ff3c_11ea_8596_a86daa3ac739row7_col1,#T_18bc3d1a_ff3c_11ea_8596_a86daa3ac739row7_col2,#T_18bc3d1a_ff3c_11ea_8596_a86daa3ac739row8_col0,#T_18bc3d1a_ff3c_11ea_8596_a86daa3ac739row8_col1,#T_18bc3d1a_ff3c_11ea_8596_a86daa3ac739row8_col2,#T_18bc3d1a_ff3c_11ea_8596_a86daa3ac739row9_col0,#T_18bc3d1a_ff3c_11ea_8596_a86daa3ac739row9_col1,#T_18bc3d1a_ff3c_11ea_8596_a86daa3ac739row9_col2,#T_18bc3d1a_ff3c_11ea_8596_a86daa3ac739row10_col0,#T_18bc3d1a_ff3c_11ea_8596_a86daa3ac739row10_col1,#T_18bc3d1a_ff3c_11ea_8596_a86daa3ac739row10_col2,#T_18bc3d1a_ff3c_11ea_8596_a86daa3ac739row11_col0,#T_18bc3d1a_ff3c_11ea_8596_a86daa3ac739row11_col1,#T_18bc3d1a_ff3c_11ea_8596_a86daa3ac739row11_col2,#T_18bc3d1a_ff3c_11ea_8596_a86daa3ac739row12_col0,#T_18bc3d1a_ff3c_11ea_8596_a86daa3ac739row12_col1,#T_18bc3d1a_ff3c_11ea_8596_a86daa3ac739row12_col2,#T_18bc3d1a_ff3c_11ea_8596_a86daa3ac739row13_col0,#T_18bc3d1a_ff3c_11ea_8596_a86daa3ac739row13_col1,#T_18bc3d1a_ff3c_11ea_8596_a86daa3ac739row13_col2,#T_18bc3d1a_ff3c_11ea_8596_a86daa3ac739row14_col0,#T_18bc3d1a_ff3c_11ea_8596_a86daa3ac739row14_col1,#T_18bc3d1a_ff3c_11ea_8596_a86daa3ac739row14_col2,#T_18bc3d1a_ff3c_11ea_8596_a86daa3ac739row15_col0,#T_18bc3d1a_ff3c_11ea_8596_a86daa3ac739row15_col1,#T_18bc3d1a_ff3c_11ea_8596_a86daa3ac739row15_col2,#T_18bc3d1a_ff3c_11ea_8596_a86daa3ac739row16_col0,#T_18bc3d1a_ff3c_11ea_8596_a86daa3ac739row16_col1,#T_18bc3d1a_ff3c_11ea_8596_a86daa3ac739row16_col2,#T_18bc3d1a_ff3c_11ea_8596_a86daa3ac739row17_col0,#T_18bc3d1a_ff3c_11ea_8596_a86daa3ac739row17_col1,#T_18bc3d1a_ff3c_11ea_8596_a86daa3ac739row17_col2,#T_18bc3d1a_ff3c_11ea_8596_a86daa3ac739row18_col0,#T_18bc3d1a_ff3c_11ea_8596_a86daa3ac739row18_col1,#T_18bc3d1a_ff3c_11ea_8596_a86daa3ac739row18_col2,#T_18bc3d1a_ff3c_11ea_8596_a86daa3ac739row19_col0,#T_18bc3d1a_ff3c_11ea_8596_a86daa3ac739row19_col1,#T_18bc3d1a_ff3c_11ea_8596_a86daa3ac739row19_col2,#T_18bc3d1a_ff3c_11ea_8596_a86daa3ac739row20_col0,#T_18bc3d1a_ff3c_11ea_8596_a86daa3ac739row20_col1,#T_18bc3d1a_ff3c_11ea_8596_a86daa3ac739row20_col2,#T_18bc3d1a_ff3c_11ea_8596_a86daa3ac739row21_col0,#T_18bc3d1a_ff3c_11ea_8596_a86daa3ac739row21_col1,#T_18bc3d1a_ff3c_11ea_8596_a86daa3ac739row21_col2,#T_18bc3d1a_ff3c_11ea_8596_a86daa3ac739row22_col0,#T_18bc3d1a_ff3c_11ea_8596_a86daa3ac739row22_col1,#T_18bc3d1a_ff3c_11ea_8596_a86daa3ac739row22_col2,#T_18bc3d1a_ff3c_11ea_8596_a86daa3ac739row23_col0,#T_18bc3d1a_ff3c_11ea_8596_a86daa3ac739row23_col1,#T_18bc3d1a_ff3c_11ea_8596_a86daa3ac739row23_col2{\n",
       "            background-color:  white;\n",
       "        }</style><table id=\"T_18bc3d1a_ff3c_11ea_8596_a86daa3ac739\" ><thead>    <tr>        <th class=\"blank level0\" ></th>        <th class=\"col_heading level0 col0\" >X</th>        <th class=\"col_heading level0 col1\" >X_PN</th>        <th class=\"col_heading level0 col2\" >(X_PN - X)</th>    </tr></thead><tbody>\n",
       "                <tr>\n",
       "                        <th id=\"T_18bc3d1a_ff3c_11ea_8596_a86daa3ac739level0_row0\" class=\"row_heading level0 row0\" >ExternalRiskEstimate</th>\n",
       "                        <td id=\"T_18bc3d1a_ff3c_11ea_8596_a86daa3ac739row0_col0\" class=\"data row0 col0\" >65.000000</td>\n",
       "                        <td id=\"T_18bc3d1a_ff3c_11ea_8596_a86daa3ac739row0_col1\" class=\"data row0 col1\" >80.910000</td>\n",
       "                        <td id=\"T_18bc3d1a_ff3c_11ea_8596_a86daa3ac739row0_col2\" class=\"data row0 col2\" >15.910000</td>\n",
       "            </tr>\n",
       "            <tr>\n",
       "                        <th id=\"T_18bc3d1a_ff3c_11ea_8596_a86daa3ac739level0_row1\" class=\"row_heading level0 row1\" >MSinceOldestTradeOpen</th>\n",
       "                        <td id=\"T_18bc3d1a_ff3c_11ea_8596_a86daa3ac739row1_col0\" class=\"data row1 col0\" >256.000000</td>\n",
       "                        <td id=\"T_18bc3d1a_ff3c_11ea_8596_a86daa3ac739row1_col1\" class=\"data row1 col1\" >256.000000</td>\n",
       "                        <td id=\"T_18bc3d1a_ff3c_11ea_8596_a86daa3ac739row1_col2\" class=\"data row1 col2\" >0.000000</td>\n",
       "            </tr>\n",
       "            <tr>\n",
       "                        <th id=\"T_18bc3d1a_ff3c_11ea_8596_a86daa3ac739level0_row2\" class=\"row_heading level0 row2\" >MSinceMostRecentTradeOpen</th>\n",
       "                        <td id=\"T_18bc3d1a_ff3c_11ea_8596_a86daa3ac739row2_col0\" class=\"data row2 col0\" >15.000000</td>\n",
       "                        <td id=\"T_18bc3d1a_ff3c_11ea_8596_a86daa3ac739row2_col1\" class=\"data row2 col1\" >15.000000</td>\n",
       "                        <td id=\"T_18bc3d1a_ff3c_11ea_8596_a86daa3ac739row2_col2\" class=\"data row2 col2\" >0.000000</td>\n",
       "            </tr>\n",
       "            <tr>\n",
       "                        <th id=\"T_18bc3d1a_ff3c_11ea_8596_a86daa3ac739level0_row3\" class=\"row_heading level0 row3\" >AverageMInFile</th>\n",
       "                        <td id=\"T_18bc3d1a_ff3c_11ea_8596_a86daa3ac739row3_col0\" class=\"data row3 col0\" >52.000000</td>\n",
       "                        <td id=\"T_18bc3d1a_ff3c_11ea_8596_a86daa3ac739row3_col1\" class=\"data row3 col1\" >65.670000</td>\n",
       "                        <td id=\"T_18bc3d1a_ff3c_11ea_8596_a86daa3ac739row3_col2\" class=\"data row3 col2\" >13.670000</td>\n",
       "            </tr>\n",
       "            <tr>\n",
       "                        <th id=\"T_18bc3d1a_ff3c_11ea_8596_a86daa3ac739level0_row4\" class=\"row_heading level0 row4\" >NumSatisfactoryTrades</th>\n",
       "                        <td id=\"T_18bc3d1a_ff3c_11ea_8596_a86daa3ac739row4_col0\" class=\"data row4 col0\" >17.000000</td>\n",
       "                        <td id=\"T_18bc3d1a_ff3c_11ea_8596_a86daa3ac739row4_col1\" class=\"data row4 col1\" >21.550000</td>\n",
       "                        <td id=\"T_18bc3d1a_ff3c_11ea_8596_a86daa3ac739row4_col2\" class=\"data row4 col2\" >4.550000</td>\n",
       "            </tr>\n",
       "            <tr>\n",
       "                        <th id=\"T_18bc3d1a_ff3c_11ea_8596_a86daa3ac739level0_row5\" class=\"row_heading level0 row5\" >NumTrades60Ever2DerogPubRec</th>\n",
       "                        <td id=\"T_18bc3d1a_ff3c_11ea_8596_a86daa3ac739row5_col0\" class=\"data row5 col0\" >0.000000</td>\n",
       "                        <td id=\"T_18bc3d1a_ff3c_11ea_8596_a86daa3ac739row5_col1\" class=\"data row5 col1\" >0.000000</td>\n",
       "                        <td id=\"T_18bc3d1a_ff3c_11ea_8596_a86daa3ac739row5_col2\" class=\"data row5 col2\" >0.000000</td>\n",
       "            </tr>\n",
       "            <tr>\n",
       "                        <th id=\"T_18bc3d1a_ff3c_11ea_8596_a86daa3ac739level0_row6\" class=\"row_heading level0 row6\" >NumTrades90Ever2DerogPubRec</th>\n",
       "                        <td id=\"T_18bc3d1a_ff3c_11ea_8596_a86daa3ac739row6_col0\" class=\"data row6 col0\" >0.000000</td>\n",
       "                        <td id=\"T_18bc3d1a_ff3c_11ea_8596_a86daa3ac739row6_col1\" class=\"data row6 col1\" >0.000000</td>\n",
       "                        <td id=\"T_18bc3d1a_ff3c_11ea_8596_a86daa3ac739row6_col2\" class=\"data row6 col2\" >0.000000</td>\n",
       "            </tr>\n",
       "            <tr>\n",
       "                        <th id=\"T_18bc3d1a_ff3c_11ea_8596_a86daa3ac739level0_row7\" class=\"row_heading level0 row7\" >PercentTradesNeverDelq</th>\n",
       "                        <td id=\"T_18bc3d1a_ff3c_11ea_8596_a86daa3ac739row7_col0\" class=\"data row7 col0\" >100.000000</td>\n",
       "                        <td id=\"T_18bc3d1a_ff3c_11ea_8596_a86daa3ac739row7_col1\" class=\"data row7 col1\" >100.000000</td>\n",
       "                        <td id=\"T_18bc3d1a_ff3c_11ea_8596_a86daa3ac739row7_col2\" class=\"data row7 col2\" >0.000000</td>\n",
       "            </tr>\n",
       "            <tr>\n",
       "                        <th id=\"T_18bc3d1a_ff3c_11ea_8596_a86daa3ac739level0_row8\" class=\"row_heading level0 row8\" >MSinceMostRecentDelq</th>\n",
       "                        <td id=\"T_18bc3d1a_ff3c_11ea_8596_a86daa3ac739row8_col0\" class=\"data row8 col0\" >0.000000</td>\n",
       "                        <td id=\"T_18bc3d1a_ff3c_11ea_8596_a86daa3ac739row8_col1\" class=\"data row8 col1\" >0.000000</td>\n",
       "                        <td id=\"T_18bc3d1a_ff3c_11ea_8596_a86daa3ac739row8_col2\" class=\"data row8 col2\" >0.000000</td>\n",
       "            </tr>\n",
       "            <tr>\n",
       "                        <th id=\"T_18bc3d1a_ff3c_11ea_8596_a86daa3ac739level0_row9\" class=\"row_heading level0 row9\" >MaxDelq2PublicRecLast12M</th>\n",
       "                        <td id=\"T_18bc3d1a_ff3c_11ea_8596_a86daa3ac739row9_col0\" class=\"data row9 col0\" >7.000000</td>\n",
       "                        <td id=\"T_18bc3d1a_ff3c_11ea_8596_a86daa3ac739row9_col1\" class=\"data row9 col1\" >7.000000</td>\n",
       "                        <td id=\"T_18bc3d1a_ff3c_11ea_8596_a86daa3ac739row9_col2\" class=\"data row9 col2\" >0.000000</td>\n",
       "            </tr>\n",
       "            <tr>\n",
       "                        <th id=\"T_18bc3d1a_ff3c_11ea_8596_a86daa3ac739level0_row10\" class=\"row_heading level0 row10\" >MaxDelqEver</th>\n",
       "                        <td id=\"T_18bc3d1a_ff3c_11ea_8596_a86daa3ac739row10_col0\" class=\"data row10 col0\" >8.000000</td>\n",
       "                        <td id=\"T_18bc3d1a_ff3c_11ea_8596_a86daa3ac739row10_col1\" class=\"data row10 col1\" >8.000000</td>\n",
       "                        <td id=\"T_18bc3d1a_ff3c_11ea_8596_a86daa3ac739row10_col2\" class=\"data row10 col2\" >0.000000</td>\n",
       "            </tr>\n",
       "            <tr>\n",
       "                        <th id=\"T_18bc3d1a_ff3c_11ea_8596_a86daa3ac739level0_row11\" class=\"row_heading level0 row11\" >NumTotalTrades</th>\n",
       "                        <td id=\"T_18bc3d1a_ff3c_11ea_8596_a86daa3ac739row11_col0\" class=\"data row11 col0\" >19.000000</td>\n",
       "                        <td id=\"T_18bc3d1a_ff3c_11ea_8596_a86daa3ac739row11_col1\" class=\"data row11 col1\" >19.000000</td>\n",
       "                        <td id=\"T_18bc3d1a_ff3c_11ea_8596_a86daa3ac739row11_col2\" class=\"data row11 col2\" >0.000000</td>\n",
       "            </tr>\n",
       "            <tr>\n",
       "                        <th id=\"T_18bc3d1a_ff3c_11ea_8596_a86daa3ac739level0_row12\" class=\"row_heading level0 row12\" >NumTradesOpeninLast12M</th>\n",
       "                        <td id=\"T_18bc3d1a_ff3c_11ea_8596_a86daa3ac739row12_col0\" class=\"data row12 col0\" >0.000000</td>\n",
       "                        <td id=\"T_18bc3d1a_ff3c_11ea_8596_a86daa3ac739row12_col1\" class=\"data row12 col1\" >0.000000</td>\n",
       "                        <td id=\"T_18bc3d1a_ff3c_11ea_8596_a86daa3ac739row12_col2\" class=\"data row12 col2\" >0.000000</td>\n",
       "            </tr>\n",
       "            <tr>\n",
       "                        <th id=\"T_18bc3d1a_ff3c_11ea_8596_a86daa3ac739level0_row13\" class=\"row_heading level0 row13\" >PercentInstallTrades</th>\n",
       "                        <td id=\"T_18bc3d1a_ff3c_11ea_8596_a86daa3ac739row13_col0\" class=\"data row13 col0\" >29.000000</td>\n",
       "                        <td id=\"T_18bc3d1a_ff3c_11ea_8596_a86daa3ac739row13_col1\" class=\"data row13 col1\" >29.000000</td>\n",
       "                        <td id=\"T_18bc3d1a_ff3c_11ea_8596_a86daa3ac739row13_col2\" class=\"data row13 col2\" >0.000000</td>\n",
       "            </tr>\n",
       "            <tr>\n",
       "                        <th id=\"T_18bc3d1a_ff3c_11ea_8596_a86daa3ac739level0_row14\" class=\"row_heading level0 row14\" >MSinceMostRecentInqexcl7days</th>\n",
       "                        <td id=\"T_18bc3d1a_ff3c_11ea_8596_a86daa3ac739row14_col0\" class=\"data row14 col0\" >2.000000</td>\n",
       "                        <td id=\"T_18bc3d1a_ff3c_11ea_8596_a86daa3ac739row14_col1\" class=\"data row14 col1\" >2.000000</td>\n",
       "                        <td id=\"T_18bc3d1a_ff3c_11ea_8596_a86daa3ac739row14_col2\" class=\"data row14 col2\" >0.000000</td>\n",
       "            </tr>\n",
       "            <tr>\n",
       "                        <th id=\"T_18bc3d1a_ff3c_11ea_8596_a86daa3ac739level0_row15\" class=\"row_heading level0 row15\" >NumInqLast6M</th>\n",
       "                        <td id=\"T_18bc3d1a_ff3c_11ea_8596_a86daa3ac739row15_col0\" class=\"data row15 col0\" >5.000000</td>\n",
       "                        <td id=\"T_18bc3d1a_ff3c_11ea_8596_a86daa3ac739row15_col1\" class=\"data row15 col1\" >5.000000</td>\n",
       "                        <td id=\"T_18bc3d1a_ff3c_11ea_8596_a86daa3ac739row15_col2\" class=\"data row15 col2\" >0.000000</td>\n",
       "            </tr>\n",
       "            <tr>\n",
       "                        <th id=\"T_18bc3d1a_ff3c_11ea_8596_a86daa3ac739level0_row16\" class=\"row_heading level0 row16\" >NumInqLast6Mexcl7days</th>\n",
       "                        <td id=\"T_18bc3d1a_ff3c_11ea_8596_a86daa3ac739row16_col0\" class=\"data row16 col0\" >5.000000</td>\n",
       "                        <td id=\"T_18bc3d1a_ff3c_11ea_8596_a86daa3ac739row16_col1\" class=\"data row16 col1\" >5.000000</td>\n",
       "                        <td id=\"T_18bc3d1a_ff3c_11ea_8596_a86daa3ac739row16_col2\" class=\"data row16 col2\" >0.000000</td>\n",
       "            </tr>\n",
       "            <tr>\n",
       "                        <th id=\"T_18bc3d1a_ff3c_11ea_8596_a86daa3ac739level0_row17\" class=\"row_heading level0 row17\" >NetFractionRevolvingBurden</th>\n",
       "                        <td id=\"T_18bc3d1a_ff3c_11ea_8596_a86daa3ac739row17_col0\" class=\"data row17 col0\" >57.000000</td>\n",
       "                        <td id=\"T_18bc3d1a_ff3c_11ea_8596_a86daa3ac739row17_col1\" class=\"data row17 col1\" >57.000000</td>\n",
       "                        <td id=\"T_18bc3d1a_ff3c_11ea_8596_a86daa3ac739row17_col2\" class=\"data row17 col2\" >0.000000</td>\n",
       "            </tr>\n",
       "            <tr>\n",
       "                        <th id=\"T_18bc3d1a_ff3c_11ea_8596_a86daa3ac739level0_row18\" class=\"row_heading level0 row18\" >NetFractionInstallBurden</th>\n",
       "                        <td id=\"T_18bc3d1a_ff3c_11ea_8596_a86daa3ac739row18_col0\" class=\"data row18 col0\" >79.000000</td>\n",
       "                        <td id=\"T_18bc3d1a_ff3c_11ea_8596_a86daa3ac739row18_col1\" class=\"data row18 col1\" >79.000000</td>\n",
       "                        <td id=\"T_18bc3d1a_ff3c_11ea_8596_a86daa3ac739row18_col2\" class=\"data row18 col2\" >0.000000</td>\n",
       "            </tr>\n",
       "            <tr>\n",
       "                        <th id=\"T_18bc3d1a_ff3c_11ea_8596_a86daa3ac739level0_row19\" class=\"row_heading level0 row19\" >NumRevolvingTradesWBalance</th>\n",
       "                        <td id=\"T_18bc3d1a_ff3c_11ea_8596_a86daa3ac739row19_col0\" class=\"data row19 col0\" >2.000000</td>\n",
       "                        <td id=\"T_18bc3d1a_ff3c_11ea_8596_a86daa3ac739row19_col1\" class=\"data row19 col1\" >2.000000</td>\n",
       "                        <td id=\"T_18bc3d1a_ff3c_11ea_8596_a86daa3ac739row19_col2\" class=\"data row19 col2\" >0.000000</td>\n",
       "            </tr>\n",
       "            <tr>\n",
       "                        <th id=\"T_18bc3d1a_ff3c_11ea_8596_a86daa3ac739level0_row20\" class=\"row_heading level0 row20\" >NumInstallTradesWBalance</th>\n",
       "                        <td id=\"T_18bc3d1a_ff3c_11ea_8596_a86daa3ac739row20_col0\" class=\"data row20 col0\" >4.000000</td>\n",
       "                        <td id=\"T_18bc3d1a_ff3c_11ea_8596_a86daa3ac739row20_col1\" class=\"data row20 col1\" >4.000000</td>\n",
       "                        <td id=\"T_18bc3d1a_ff3c_11ea_8596_a86daa3ac739row20_col2\" class=\"data row20 col2\" >0.000000</td>\n",
       "            </tr>\n",
       "            <tr>\n",
       "                        <th id=\"T_18bc3d1a_ff3c_11ea_8596_a86daa3ac739level0_row21\" class=\"row_heading level0 row21\" >NumBank2NatlTradesWHighUtilization</th>\n",
       "                        <td id=\"T_18bc3d1a_ff3c_11ea_8596_a86daa3ac739row21_col0\" class=\"data row21 col0\" >2.000000</td>\n",
       "                        <td id=\"T_18bc3d1a_ff3c_11ea_8596_a86daa3ac739row21_col1\" class=\"data row21 col1\" >2.000000</td>\n",
       "                        <td id=\"T_18bc3d1a_ff3c_11ea_8596_a86daa3ac739row21_col2\" class=\"data row21 col2\" >0.000000</td>\n",
       "            </tr>\n",
       "            <tr>\n",
       "                        <th id=\"T_18bc3d1a_ff3c_11ea_8596_a86daa3ac739level0_row22\" class=\"row_heading level0 row22\" >PercentTradesWBalance</th>\n",
       "                        <td id=\"T_18bc3d1a_ff3c_11ea_8596_a86daa3ac739row22_col0\" class=\"data row22 col0\" >60.000000</td>\n",
       "                        <td id=\"T_18bc3d1a_ff3c_11ea_8596_a86daa3ac739row22_col1\" class=\"data row22 col1\" >60.000000</td>\n",
       "                        <td id=\"T_18bc3d1a_ff3c_11ea_8596_a86daa3ac739row22_col2\" class=\"data row22 col2\" >0.000000</td>\n",
       "            </tr>\n",
       "            <tr>\n",
       "                        <th id=\"T_18bc3d1a_ff3c_11ea_8596_a86daa3ac739level0_row23\" class=\"row_heading level0 row23\" >RiskPerformance</th>\n",
       "                        <td id=\"T_18bc3d1a_ff3c_11ea_8596_a86daa3ac739row23_col0\" class=\"data row23 col0\" >Bad</td>\n",
       "                        <td id=\"T_18bc3d1a_ff3c_11ea_8596_a86daa3ac739row23_col1\" class=\"data row23 col1\" >Good</td>\n",
       "                        <td id=\"T_18bc3d1a_ff3c_11ea_8596_a86daa3ac739row23_col2\" class=\"data row23 col2\" >NIL</td>\n",
       "            </tr>\n",
       "    </tbody></table>"
      ],
      "text/plain": [
       "<pandas.io.formats.style.Styler at 0x182a60ea808>"
      ]
     },
     "execution_count": 8,
     "metadata": {},
     "output_type": "execute_result"
    }
   ],
   "source": [
    "Xpn = adv_pn\n",
    "classes = [ class_names[np.argmax(nn.predict_proba(X))], class_names[np.argmax(nn.predict_proba(Xpn))], 'NIL' ]\n",
    "\n",
    "print(\"Sample:\", idx)\n",
    "print(\"prediction(X)\", nn.predict_proba(X), class_names[np.argmax(nn.predict_proba(X))])\n",
    "print(\"prediction(Xpn)\", nn.predict_proba(Xpn), class_names[np.argmax(nn.predict_proba(Xpn))] )\n",
    "\n",
    "\n",
    "X_re = rescale(X) # Convert values back to original scale from normalized\n",
    "Xpn_re = rescale(Xpn)\n",
    "Xpn_re = np.around(Xpn_re.astype(np.double), 2)\n",
    "\n",
    "delta_re = Xpn_re - X_re\n",
    "delta_re = np.around(delta_re.astype(np.double), 2)\n",
    "delta_re[np.absolute(delta_re) < 1e-4] = 0\n",
    "\n",
    "X3 = np.vstack((X_re, Xpn_re, delta_re))\n",
    "\n",
    "dfre = pd.DataFrame.from_records(X3) # Create dataframe to display original point, PN and difference (delta)\n",
    "dfre[23] = classes\n",
    "\n",
    "dfre.columns = df.columns\n",
    "dfre.rename(index={0:'X',1:'X_PN', 2:'(X_PN - X)'}, inplace=True)\n",
    "dfret = dfre.transpose()\n",
    "\n",
    "\n",
    "def highlight_ce(s, col, ncols):\n",
    "    if (type(s[col]) != str):\n",
    "        if (s[col] > 0):\n",
    "            return(['background-color: yellow']*ncols)    \n",
    "    return(['background-color: white']*ncols)\n",
    "\n",
    "dfret.style.apply(highlight_ce, col='(X_PN - X)', ncols=3, axis=1) "
   ]
  },
  {
   "cell_type": "markdown",
   "metadata": {},
   "source": [
    "Now let us compute the importance of different PN features that would be instrumental in 1272 receiving a favorable outcome and display below."
   ]
  },
  {
   "cell_type": "code",
   "execution_count": 9,
   "metadata": {},
   "outputs": [
    {
     "data": {
      "image/png": "[encoded data removed]",
      "text/plain": [
       "<Figure size 640x480 with 1 Axes>"
      ]
     },
     "metadata": {},
     "output_type": "display_data"
    }
   ],
   "source": [
    "plt.rcdefaults()\n",
    "fi = abs((X-Xpn).astype('double'))/np.std(xn_train.astype('double'), axis=0) # Compute PN feature importance\n",
    "objects = df.columns[-2::-1]\n",
    "y_pos = np.arange(len(objects))\n",
    "performance = fi[0, -1::-1]\n",
    "\n",
    "plt.barh(y_pos, performance, align='center', alpha=0.5) # bar chart\n",
    "plt.yticks(y_pos, objects) # Display features on y-axis\n",
    "plt.xlabel('weight') # x-label\n",
    "plt.title('PN (feature importance)') # Heading\n",
    "\n",
    "plt.show() # Display PN feature importance"
   ]
  },
  {
   "cell_type": "markdown",
   "metadata": {},
   "source": [
    "#### Explanation:  \n",
    "We observe that the applicant 1272's loan application would have been accepted if the consolidated risk marker score  (i.e. ExternalRiskEstimate) increased from 65 to 81, the loan application was on file (i.e. AverageMlnFile) for about 66 months and if the number of satisfactory trades (i.e. NumSatisfactoryTrades) increased to little over 21.\n",
    "\n",
    "_The above changes to the three suggested factors are also intuitively consistent in improving the chances of acceptance of an application, since all three are monotonic with probability of acceptance (refer HELOC description table). \n",
    "However, one must realize that the above explanation is for the particular applicant based on what the model would do and does not necessarily have to agree with their intuitive meaning. In fact, if the explanation is deemed unacceptable then its an indication that perhaps the model should be debugged/updated_."
   ]
  },
  {
   "cell_type": "markdown",
   "metadata": {},
   "source": [
    "#### Compute Pertinent Positives (PP):\n",
    "In order to compute pertinent positives, the CEM explainer identifies a minimal set of features along with their values (as close to 0) that would still maintain the predicted loan application status of the applicant."
   ]
  },
  {
   "cell_type": "code",
   "execution_count": 10,
   "metadata": {},
   "outputs": [
    {
     "name": "stdout",
     "output_type": "stream",
     "text": [
      "Computing PP for Sample: 9\n",
      "Prediction made by the model: Good\n",
      "Prediction probabilities: [[-0.41730624  0.54596275]]\n",
      "\n",
      "iter:0 const:[10.]\n",
      "Loss_Overall:47.1152, Loss_Attack:47.1152\n",
      "Loss_L2Dist:0.0000, Loss_L1Dist:0.0000, AE_loss:0.0\n",
      "target_lab_score:-2.3568, max_nontarget_lab_score:2.1547\n",
      "\n",
      "iter:500 const:[10.]\n",
      "Loss_Overall:47.1152, Loss_Attack:47.1152\n",
      "Loss_L2Dist:0.0000, Loss_L1Dist:0.0000, AE_loss:0.0\n",
      "target_lab_score:-2.3568, max_nontarget_lab_score:2.1547\n",
      "\n",
      "iter:0 const:[100.]\n",
      "Loss_Overall:203.6482, Loss_Attack:201.9439\n",
      "Loss_L2Dist:0.6557, Loss_L1Dist:1.0486, AE_loss:0.0\n",
      "target_lab_score:-0.9257, max_nontarget_lab_score:0.8938\n",
      "\n",
      "iter:500 const:[100.]\n",
      "Loss_Overall:211.9047, Loss_Attack:210.3109\n",
      "Loss_L2Dist:0.6456, Loss_L1Dist:0.9482, AE_loss:0.0\n",
      "target_lab_score:-0.9704, max_nontarget_lab_score:0.9327\n",
      "\n",
      "iter:0 const:[55.]\n",
      "Loss_Overall:148.4951, Loss_Attack:147.4210\n",
      "Loss_L2Dist:0.3468, Loss_L1Dist:0.7274, AE_loss:0.0\n",
      "target_lab_score:-1.2784, max_nontarget_lab_score:1.2020\n",
      "\n",
      "iter:500 const:[55.]\n",
      "Loss_Overall:181.0444, Loss_Attack:180.2877\n",
      "Loss_L2Dist:0.2534, Loss_L1Dist:0.5033, AE_loss:0.0\n",
      "target_lab_score:-1.5951, max_nontarget_lab_score:1.4829\n",
      "\n",
      "iter:0 const:[77.5]\n",
      "Loss_Overall:164.5848, Loss_Attack:162.9909\n",
      "Loss_L2Dist:0.6456, Loss_L1Dist:0.9482, AE_loss:0.0\n",
      "target_lab_score:-0.9704, max_nontarget_lab_score:0.9327\n",
      "\n",
      "iter:500 const:[77.5]\n",
      "Loss_Overall:192.7860, Loss_Attack:191.3790\n",
      "Loss_L2Dist:0.6197, Loss_L1Dist:0.7872, AE_loss:0.0\n",
      "target_lab_score:-1.1655, max_nontarget_lab_score:1.1040\n",
      "\n",
      "iter:0 const:[88.75]\n",
      "Loss_Overall:188.2447, Loss_Attack:186.6509\n",
      "Loss_L2Dist:0.6456, Loss_L1Dist:0.9482, AE_loss:0.0\n",
      "target_lab_score:-0.9704, max_nontarget_lab_score:0.9327\n",
      "\n",
      "iter:500 const:[88.75]\n",
      "Loss_Overall:220.4879, Loss_Attack:219.0806\n",
      "Loss_L2Dist:0.6197, Loss_L1Dist:0.7876, AE_loss:0.0\n",
      "target_lab_score:-1.1650, max_nontarget_lab_score:1.1035\n",
      "\n",
      "iter:0 const:[94.375]\n",
      "Loss_Overall:197.0874, Loss_Attack:195.4536\n",
      "Loss_L2Dist:0.6471, Loss_L1Dist:0.9867, AE_loss:0.0\n",
      "target_lab_score:-0.9533, max_nontarget_lab_score:0.9178\n",
      "\n",
      "iter:500 const:[94.375]\n",
      "Loss_Overall:200.0747, Loss_Attack:198.4809\n",
      "Loss_L2Dist:0.6456, Loss_L1Dist:0.9482, AE_loss:0.0\n",
      "target_lab_score:-0.9704, max_nontarget_lab_score:0.9327\n",
      "\n",
      "iter:0 const:[97.1875]\n",
      "Loss_Overall:200.4394, Loss_Attack:198.7713\n",
      "Loss_L2Dist:0.6505, Loss_L1Dist:1.0176, AE_loss:0.0\n",
      "target_lab_score:-0.9395, max_nontarget_lab_score:0.9058\n",
      "\n",
      "iter:500 const:[97.1875]\n",
      "Loss_Overall:221.2129, Loss_Attack:219.7191\n",
      "Loss_L2Dist:0.6262, Loss_L1Dist:0.8676, AE_loss:0.0\n",
      "target_lab_score:-1.0550, max_nontarget_lab_score:1.0057\n",
      "\n",
      "iter:0 const:[98.59375]\n",
      "Loss_Overall:202.0617, Loss_Attack:200.3758\n",
      "Loss_L2Dist:0.6529, Loss_L1Dist:1.0331, AE_loss:0.0\n",
      "target_lab_score:-0.9326, max_nontarget_lab_score:0.8998\n",
      "\n",
      "iter:500 const:[98.59375]\n",
      "Loss_Overall:220.9942, Loss_Attack:219.4848\n",
      "Loss_L2Dist:0.6285, Loss_L1Dist:0.8809, AE_loss:0.0\n",
      "target_lab_score:-1.0367, max_nontarget_lab_score:0.9894\n",
      "\n",
      "iter:0 const:[97.890625]\n",
      "Loss_Overall:201.2550, Loss_Attack:199.5781\n",
      "Loss_L2Dist:0.6516, Loss_L1Dist:1.0254, AE_loss:0.0\n",
      "target_lab_score:-0.9360, max_nontarget_lab_score:0.9028\n",
      "\n",
      "iter:500 const:[97.890625]\n",
      "Loss_Overall:221.1158, Loss_Attack:219.6142\n",
      "Loss_L2Dist:0.6273, Loss_L1Dist:0.8743, AE_loss:0.0\n",
      "target_lab_score:-1.0459, max_nontarget_lab_score:0.9976\n",
      "\n"
     ]
    }
   ],
   "source": [
    "# Some interesting user samples to try: 9 11 24\n",
    "idx = 9\n",
    "\n",
    "X = xn_test[idx].reshape((1,) + xn_test[idx].shape)\n",
    "print(\"Computing PP for Sample:\", idx)\n",
    "print(\"Prediction made by the model:\", class_names[np.argmax(nn.predict_proba(X))])\n",
    "print(\"Prediction probabilities:\", nn.predict_proba(X))\n",
    "print(\"\")\n",
    "\n",
    "\n",
    "mymodel = KerasClassifier(nn)\n",
    "explainer = CEMExplainer(mymodel)\n",
    "\n",
    "arg_mode = 'PP' # Find pertinent positives\n",
    "arg_max_iter = 1000 # Maximum number of iterations to search for the optimal PN for given parameter settings\n",
    "arg_init_const = 10.0 # Initial coefficient value for main loss term that encourages class change\n",
    "arg_b = 9 # No. of updates to the coefficient of the main loss term\n",
    "arg_kappa = 0.2 # Minimum confidence gap between the PNs (changed) class probability and original class' probability\n",
    "arg_beta = 1.0 # Controls sparsity of the solution (L1 loss)\n",
    "arg_gamma = 100 # Controls how much to adhere to a (optionally trained) auto-encoder\n",
    "my_AE_model = None # Pointer to an auto-encoder\n",
    "arg_alpha = 1.0 # Penalizes L2 norm of the solution\n",
    "arg_threshold = 0.0 # Automatically turn off features <= arg_threshold if arg_threshold < 1\n",
    "arg_offset = 0.5 # the model assumes classifier trained on data normalized\n",
    "                # in [-arg_offset, arg_offset] range, where arg_offset is 0 or 0.5\n",
    "(adv_pp, delta_pp, info_pp) = explainer.explain_instance(X, arg_mode, my_AE_model, arg_kappa, arg_b,\n",
    "                                                         arg_max_iter, arg_init_const, arg_beta, arg_gamma,\n",
    "                                                            arg_alpha, arg_threshold, arg_offset)"
   ]
  },
  {
   "cell_type": "markdown",
   "metadata": {},
   "source": [
    "For the pertinent positives, we look at a different applicant 8 whose loan application was approved. We want to ascertain here what minimal values for this profile would still have lead to acceptance. Below, we showcase the pertinent positive as well as the important features in maintaining the approved status. The 0s in the PP column indicate that those features were not important. The 0s in the PP column indicate that those features were not important. Here too, we provide a human friendly explanation following the feature importance plot."
   ]
  },
  {
   "cell_type": "code",
   "execution_count": 11,
   "metadata": {},
   "outputs": [
    {
     "name": "stdout",
     "output_type": "stream",
     "text": [
      "PP for Sample: 9\n",
      "Prediction(Xpp) : Good\n",
      "Prediction probabilities for Xpp: [[-0.18573466  0.27037823]]\n",
      "\n"
     ]
    },
    {
     "data": {
      "text/html": [
       "<style  type=\"text/css\" >\n",
       "#T_4affce82_ff3c_11ea_8596_a86daa3ac739row0_col0,#T_4affce82_ff3c_11ea_8596_a86daa3ac739row0_col1,#T_4affce82_ff3c_11ea_8596_a86daa3ac739row3_col0,#T_4affce82_ff3c_11ea_8596_a86daa3ac739row3_col1,#T_4affce82_ff3c_11ea_8596_a86daa3ac739row4_col0,#T_4affce82_ff3c_11ea_8596_a86daa3ac739row4_col1,#T_4affce82_ff3c_11ea_8596_a86daa3ac739row7_col0,#T_4affce82_ff3c_11ea_8596_a86daa3ac739row7_col1,#T_4affce82_ff3c_11ea_8596_a86daa3ac739row10_col0,#T_4affce82_ff3c_11ea_8596_a86daa3ac739row10_col1{\n",
       "            background-color:  yellow;\n",
       "        }#T_4affce82_ff3c_11ea_8596_a86daa3ac739row1_col0,#T_4affce82_ff3c_11ea_8596_a86daa3ac739row1_col1,#T_4affce82_ff3c_11ea_8596_a86daa3ac739row2_col0,#T_4affce82_ff3c_11ea_8596_a86daa3ac739row2_col1,#T_4affce82_ff3c_11ea_8596_a86daa3ac739row5_col0,#T_4affce82_ff3c_11ea_8596_a86daa3ac739row5_col1,#T_4affce82_ff3c_11ea_8596_a86daa3ac739row6_col0,#T_4affce82_ff3c_11ea_8596_a86daa3ac739row6_col1,#T_4affce82_ff3c_11ea_8596_a86daa3ac739row8_col0,#T_4affce82_ff3c_11ea_8596_a86daa3ac739row8_col1,#T_4affce82_ff3c_11ea_8596_a86daa3ac739row9_col0,#T_4affce82_ff3c_11ea_8596_a86daa3ac739row9_col1,#T_4affce82_ff3c_11ea_8596_a86daa3ac739row11_col0,#T_4affce82_ff3c_11ea_8596_a86daa3ac739row11_col1,#T_4affce82_ff3c_11ea_8596_a86daa3ac739row12_col0,#T_4affce82_ff3c_11ea_8596_a86daa3ac739row12_col1,#T_4affce82_ff3c_11ea_8596_a86daa3ac739row13_col0,#T_4affce82_ff3c_11ea_8596_a86daa3ac739row13_col1,#T_4affce82_ff3c_11ea_8596_a86daa3ac739row14_col0,#T_4affce82_ff3c_11ea_8596_a86daa3ac739row14_col1,#T_4affce82_ff3c_11ea_8596_a86daa3ac739row15_col0,#T_4affce82_ff3c_11ea_8596_a86daa3ac739row15_col1,#T_4affce82_ff3c_11ea_8596_a86daa3ac739row16_col0,#T_4affce82_ff3c_11ea_8596_a86daa3ac739row16_col1,#T_4affce82_ff3c_11ea_8596_a86daa3ac739row17_col0,#T_4affce82_ff3c_11ea_8596_a86daa3ac739row17_col1,#T_4affce82_ff3c_11ea_8596_a86daa3ac739row18_col0,#T_4affce82_ff3c_11ea_8596_a86daa3ac739row18_col1,#T_4affce82_ff3c_11ea_8596_a86daa3ac739row19_col0,#T_4affce82_ff3c_11ea_8596_a86daa3ac739row19_col1,#T_4affce82_ff3c_11ea_8596_a86daa3ac739row20_col0,#T_4affce82_ff3c_11ea_8596_a86daa3ac739row20_col1,#T_4affce82_ff3c_11ea_8596_a86daa3ac739row21_col0,#T_4affce82_ff3c_11ea_8596_a86daa3ac739row21_col1,#T_4affce82_ff3c_11ea_8596_a86daa3ac739row22_col0,#T_4affce82_ff3c_11ea_8596_a86daa3ac739row22_col1,#T_4affce82_ff3c_11ea_8596_a86daa3ac739row23_col0,#T_4affce82_ff3c_11ea_8596_a86daa3ac739row23_col1{\n",
       "            background-color:  white;\n",
       "        }</style><table id=\"T_4affce82_ff3c_11ea_8596_a86daa3ac739\" ><thead>    <tr>        <th class=\"blank level0\" ></th>        <th class=\"col_heading level0 col0\" >X</th>        <th class=\"col_heading level0 col1\" >X_PP</th>    </tr></thead><tbody>\n",
       "                <tr>\n",
       "                        <th id=\"T_4affce82_ff3c_11ea_8596_a86daa3ac739level0_row0\" class=\"row_heading level0 row0\" >ExternalRiskEstimate</th>\n",
       "                        <td id=\"T_4affce82_ff3c_11ea_8596_a86daa3ac739row0_col0\" class=\"data row0 col0\" >74.000000</td>\n",
       "                        <td id=\"T_4affce82_ff3c_11ea_8596_a86daa3ac739row0_col1\" class=\"data row0 col1\" >74.000000</td>\n",
       "            </tr>\n",
       "            <tr>\n",
       "                        <th id=\"T_4affce82_ff3c_11ea_8596_a86daa3ac739level0_row1\" class=\"row_heading level0 row1\" >MSinceOldestTradeOpen</th>\n",
       "                        <td id=\"T_4affce82_ff3c_11ea_8596_a86daa3ac739row1_col0\" class=\"data row1 col0\" >181.000000</td>\n",
       "                        <td id=\"T_4affce82_ff3c_11ea_8596_a86daa3ac739row1_col1\" class=\"data row1 col1\" >0.000000</td>\n",
       "            </tr>\n",
       "            <tr>\n",
       "                        <th id=\"T_4affce82_ff3c_11ea_8596_a86daa3ac739level0_row2\" class=\"row_heading level0 row2\" >MSinceMostRecentTradeOpen</th>\n",
       "                        <td id=\"T_4affce82_ff3c_11ea_8596_a86daa3ac739row2_col0\" class=\"data row2 col0\" >1.000000</td>\n",
       "                        <td id=\"T_4affce82_ff3c_11ea_8596_a86daa3ac739row2_col1\" class=\"data row2 col1\" >0.000000</td>\n",
       "            </tr>\n",
       "            <tr>\n",
       "                        <th id=\"T_4affce82_ff3c_11ea_8596_a86daa3ac739level0_row3\" class=\"row_heading level0 row3\" >AverageMInFile</th>\n",
       "                        <td id=\"T_4affce82_ff3c_11ea_8596_a86daa3ac739row3_col0\" class=\"data row3 col0\" >65.000000</td>\n",
       "                        <td id=\"T_4affce82_ff3c_11ea_8596_a86daa3ac739row3_col1\" class=\"data row3 col1\" >53.500000</td>\n",
       "            </tr>\n",
       "            <tr>\n",
       "                        <th id=\"T_4affce82_ff3c_11ea_8596_a86daa3ac739level0_row4\" class=\"row_heading level0 row4\" >NumSatisfactoryTrades</th>\n",
       "                        <td id=\"T_4affce82_ff3c_11ea_8596_a86daa3ac739row4_col0\" class=\"data row4 col0\" >61.000000</td>\n",
       "                        <td id=\"T_4affce82_ff3c_11ea_8596_a86daa3ac739row4_col1\" class=\"data row4 col1\" >61.000000</td>\n",
       "            </tr>\n",
       "            <tr>\n",
       "                        <th id=\"T_4affce82_ff3c_11ea_8596_a86daa3ac739level0_row5\" class=\"row_heading level0 row5\" >NumTrades60Ever2DerogPubRec</th>\n",
       "                        <td id=\"T_4affce82_ff3c_11ea_8596_a86daa3ac739row5_col0\" class=\"data row5 col0\" >0.000000</td>\n",
       "                        <td id=\"T_4affce82_ff3c_11ea_8596_a86daa3ac739row5_col1\" class=\"data row5 col1\" >0.000000</td>\n",
       "            </tr>\n",
       "            <tr>\n",
       "                        <th id=\"T_4affce82_ff3c_11ea_8596_a86daa3ac739level0_row6\" class=\"row_heading level0 row6\" >NumTrades90Ever2DerogPubRec</th>\n",
       "                        <td id=\"T_4affce82_ff3c_11ea_8596_a86daa3ac739row6_col0\" class=\"data row6 col0\" >0.000000</td>\n",
       "                        <td id=\"T_4affce82_ff3c_11ea_8596_a86daa3ac739row6_col1\" class=\"data row6 col1\" >0.000000</td>\n",
       "            </tr>\n",
       "            <tr>\n",
       "                        <th id=\"T_4affce82_ff3c_11ea_8596_a86daa3ac739level0_row7\" class=\"row_heading level0 row7\" >PercentTradesNeverDelq</th>\n",
       "                        <td id=\"T_4affce82_ff3c_11ea_8596_a86daa3ac739row7_col0\" class=\"data row7 col0\" >100.000000</td>\n",
       "                        <td id=\"T_4affce82_ff3c_11ea_8596_a86daa3ac739row7_col1\" class=\"data row7 col1\" >77.270000</td>\n",
       "            </tr>\n",
       "            <tr>\n",
       "                        <th id=\"T_4affce82_ff3c_11ea_8596_a86daa3ac739level0_row8\" class=\"row_heading level0 row8\" >MSinceMostRecentDelq</th>\n",
       "                        <td id=\"T_4affce82_ff3c_11ea_8596_a86daa3ac739row8_col0\" class=\"data row8 col0\" >0.000000</td>\n",
       "                        <td id=\"T_4affce82_ff3c_11ea_8596_a86daa3ac739row8_col1\" class=\"data row8 col1\" >0.000000</td>\n",
       "            </tr>\n",
       "            <tr>\n",
       "                        <th id=\"T_4affce82_ff3c_11ea_8596_a86daa3ac739level0_row9\" class=\"row_heading level0 row9\" >MaxDelq2PublicRecLast12M</th>\n",
       "                        <td id=\"T_4affce82_ff3c_11ea_8596_a86daa3ac739row9_col0\" class=\"data row9 col0\" >6.000000</td>\n",
       "                        <td id=\"T_4affce82_ff3c_11ea_8596_a86daa3ac739row9_col1\" class=\"data row9 col1\" >0.000000</td>\n",
       "            </tr>\n",
       "            <tr>\n",
       "                        <th id=\"T_4affce82_ff3c_11ea_8596_a86daa3ac739level0_row10\" class=\"row_heading level0 row10\" >MaxDelqEver</th>\n",
       "                        <td id=\"T_4affce82_ff3c_11ea_8596_a86daa3ac739row10_col0\" class=\"data row10 col0\" >7.000000</td>\n",
       "                        <td id=\"T_4affce82_ff3c_11ea_8596_a86daa3ac739row10_col1\" class=\"data row10 col1\" >2.000000</td>\n",
       "            </tr>\n",
       "            <tr>\n",
       "                        <th id=\"T_4affce82_ff3c_11ea_8596_a86daa3ac739level0_row11\" class=\"row_heading level0 row11\" >NumTotalTrades</th>\n",
       "                        <td id=\"T_4affce82_ff3c_11ea_8596_a86daa3ac739row11_col0\" class=\"data row11 col0\" >65.000000</td>\n",
       "                        <td id=\"T_4affce82_ff3c_11ea_8596_a86daa3ac739row11_col1\" class=\"data row11 col1\" >0.000000</td>\n",
       "            </tr>\n",
       "            <tr>\n",
       "                        <th id=\"T_4affce82_ff3c_11ea_8596_a86daa3ac739level0_row12\" class=\"row_heading level0 row12\" >NumTradesOpeninLast12M</th>\n",
       "                        <td id=\"T_4affce82_ff3c_11ea_8596_a86daa3ac739row12_col0\" class=\"data row12 col0\" >5.000000</td>\n",
       "                        <td id=\"T_4affce82_ff3c_11ea_8596_a86daa3ac739row12_col1\" class=\"data row12 col1\" >0.000000</td>\n",
       "            </tr>\n",
       "            <tr>\n",
       "                        <th id=\"T_4affce82_ff3c_11ea_8596_a86daa3ac739level0_row13\" class=\"row_heading level0 row13\" >PercentInstallTrades</th>\n",
       "                        <td id=\"T_4affce82_ff3c_11ea_8596_a86daa3ac739row13_col0\" class=\"data row13 col0\" >35.000000</td>\n",
       "                        <td id=\"T_4affce82_ff3c_11ea_8596_a86daa3ac739row13_col1\" class=\"data row13 col1\" >0.000000</td>\n",
       "            </tr>\n",
       "            <tr>\n",
       "                        <th id=\"T_4affce82_ff3c_11ea_8596_a86daa3ac739level0_row14\" class=\"row_heading level0 row14\" >MSinceMostRecentInqexcl7days</th>\n",
       "                        <td id=\"T_4affce82_ff3c_11ea_8596_a86daa3ac739row14_col0\" class=\"data row14 col0\" >0.000000</td>\n",
       "                        <td id=\"T_4affce82_ff3c_11ea_8596_a86daa3ac739row14_col1\" class=\"data row14 col1\" >0.000000</td>\n",
       "            </tr>\n",
       "            <tr>\n",
       "                        <th id=\"T_4affce82_ff3c_11ea_8596_a86daa3ac739level0_row15\" class=\"row_heading level0 row15\" >NumInqLast6M</th>\n",
       "                        <td id=\"T_4affce82_ff3c_11ea_8596_a86daa3ac739row15_col0\" class=\"data row15 col0\" >0.000000</td>\n",
       "                        <td id=\"T_4affce82_ff3c_11ea_8596_a86daa3ac739row15_col1\" class=\"data row15 col1\" >0.000000</td>\n",
       "            </tr>\n",
       "            <tr>\n",
       "                        <th id=\"T_4affce82_ff3c_11ea_8596_a86daa3ac739level0_row16\" class=\"row_heading level0 row16\" >NumInqLast6Mexcl7days</th>\n",
       "                        <td id=\"T_4affce82_ff3c_11ea_8596_a86daa3ac739row16_col0\" class=\"data row16 col0\" >0.000000</td>\n",
       "                        <td id=\"T_4affce82_ff3c_11ea_8596_a86daa3ac739row16_col1\" class=\"data row16 col1\" >0.000000</td>\n",
       "            </tr>\n",
       "            <tr>\n",
       "                        <th id=\"T_4affce82_ff3c_11ea_8596_a86daa3ac739level0_row17\" class=\"row_heading level0 row17\" >NetFractionRevolvingBurden</th>\n",
       "                        <td id=\"T_4affce82_ff3c_11ea_8596_a86daa3ac739row17_col0\" class=\"data row17 col0\" >12.000000</td>\n",
       "                        <td id=\"T_4affce82_ff3c_11ea_8596_a86daa3ac739row17_col1\" class=\"data row17 col1\" >0.000000</td>\n",
       "            </tr>\n",
       "            <tr>\n",
       "                        <th id=\"T_4affce82_ff3c_11ea_8596_a86daa3ac739level0_row18\" class=\"row_heading level0 row18\" >NetFractionInstallBurden</th>\n",
       "                        <td id=\"T_4affce82_ff3c_11ea_8596_a86daa3ac739row18_col0\" class=\"data row18 col0\" >80.000000</td>\n",
       "                        <td id=\"T_4affce82_ff3c_11ea_8596_a86daa3ac739row18_col1\" class=\"data row18 col1\" >0.000000</td>\n",
       "            </tr>\n",
       "            <tr>\n",
       "                        <th id=\"T_4affce82_ff3c_11ea_8596_a86daa3ac739level0_row19\" class=\"row_heading level0 row19\" >NumRevolvingTradesWBalance</th>\n",
       "                        <td id=\"T_4affce82_ff3c_11ea_8596_a86daa3ac739row19_col0\" class=\"data row19 col0\" >9.000000</td>\n",
       "                        <td id=\"T_4affce82_ff3c_11ea_8596_a86daa3ac739row19_col1\" class=\"data row19 col1\" >0.000000</td>\n",
       "            </tr>\n",
       "            <tr>\n",
       "                        <th id=\"T_4affce82_ff3c_11ea_8596_a86daa3ac739level0_row20\" class=\"row_heading level0 row20\" >NumInstallTradesWBalance</th>\n",
       "                        <td id=\"T_4affce82_ff3c_11ea_8596_a86daa3ac739row20_col0\" class=\"data row20 col0\" >6.000000</td>\n",
       "                        <td id=\"T_4affce82_ff3c_11ea_8596_a86daa3ac739row20_col1\" class=\"data row20 col1\" >0.000000</td>\n",
       "            </tr>\n",
       "            <tr>\n",
       "                        <th id=\"T_4affce82_ff3c_11ea_8596_a86daa3ac739level0_row21\" class=\"row_heading level0 row21\" >NumBank2NatlTradesWHighUtilization</th>\n",
       "                        <td id=\"T_4affce82_ff3c_11ea_8596_a86daa3ac739row21_col0\" class=\"data row21 col0\" >2.000000</td>\n",
       "                        <td id=\"T_4affce82_ff3c_11ea_8596_a86daa3ac739row21_col1\" class=\"data row21 col1\" >0.000000</td>\n",
       "            </tr>\n",
       "            <tr>\n",
       "                        <th id=\"T_4affce82_ff3c_11ea_8596_a86daa3ac739level0_row22\" class=\"row_heading level0 row22\" >PercentTradesWBalance</th>\n",
       "                        <td id=\"T_4affce82_ff3c_11ea_8596_a86daa3ac739row22_col0\" class=\"data row22 col0\" >58.000000</td>\n",
       "                        <td id=\"T_4affce82_ff3c_11ea_8596_a86daa3ac739row22_col1\" class=\"data row22 col1\" >0.000000</td>\n",
       "            </tr>\n",
       "            <tr>\n",
       "                        <th id=\"T_4affce82_ff3c_11ea_8596_a86daa3ac739level0_row23\" class=\"row_heading level0 row23\" >RiskPerformance</th>\n",
       "                        <td id=\"T_4affce82_ff3c_11ea_8596_a86daa3ac739row23_col0\" class=\"data row23 col0\" >Good</td>\n",
       "                        <td id=\"T_4affce82_ff3c_11ea_8596_a86daa3ac739row23_col1\" class=\"data row23 col1\" >Good</td>\n",
       "            </tr>\n",
       "    </tbody></table>"
      ],
      "text/plain": [
       "<pandas.io.formats.style.Styler at 0x182a67e78c8>"
      ]
     },
     "execution_count": 11,
     "metadata": {},
     "output_type": "execute_result"
    }
   ],
   "source": [
    "Xpp = delta_pp\n",
    "classes = [ class_names[np.argmax(nn.predict_proba(X))], class_names[np.argmax(nn.predict_proba(Xpp))]]\n",
    "\n",
    "print(\"PP for Sample:\", idx)\n",
    "print(\"Prediction(Xpp) :\", class_names[np.argmax(nn.predict_proba(Xpp))])\n",
    "print(\"Prediction probabilities for Xpp:\", nn.predict_proba(Xpp))\n",
    "print(\"\")\n",
    "\n",
    "X_re = rescale(X) # Convert values back to original scale from normalized\n",
    "adv_pp_re = rescale(adv_pp)\n",
    "#Xpp_re = X_re - adv_pp_re\n",
    "Xpp_re = rescale(Xpp)\n",
    "Xpp_re = np.around(Xpp_re.astype(np.double), 2)\n",
    "Xpp_re[Xpp_re < 1e-4] = 0\n",
    "\n",
    "X2 = np.vstack((X_re, Xpp_re))\n",
    "\n",
    "dfpp = pd.DataFrame.from_records(X2.astype('double')) # Showcase a dataframe for the original point and PP\n",
    "dfpp[23] = classes\n",
    "dfpp.columns = df.columns\n",
    "dfpp.rename(index={0:'X',1:'X_PP'}, inplace=True)\n",
    "dfppt = dfpp.transpose()\n",
    "\n",
    "dfppt.style.apply(highlight_ce, col='X_PP', ncols=2, axis=1) "
   ]
  },
  {
   "cell_type": "code",
   "execution_count": 12,
   "metadata": {},
   "outputs": [
    {
     "data": {
      "image/png": "[encoded data removed]",
      "text/plain": [
       "<Figure size 640x480 with 1 Axes>"
      ]
     },
     "metadata": {},
     "output_type": "display_data"
    }
   ],
   "source": [
    "plt.rcdefaults()\n",
    "fi = abs(Xpp_re.astype('double'))/np.std(x_train.astype('double'), axis=0) # Compute PP feature importance\n",
    "    \n",
    "objects = df.columns[-2::-1]\n",
    "y_pos = np.arange(len(objects)) # Get input feature names\n",
    "performance = fi[0, -1::-1]\n",
    "\n",
    "plt.barh(y_pos, performance, align='center', alpha=0.5) # Bar chart\n",
    "plt.yticks(y_pos, objects) # Plot feature names on y-axis\n",
    "plt.xlabel('weight') #x-label\n",
    "plt.title('PP (feature importance)') # Figure heading\n",
    "\n",
    "plt.show()    # Display the feature importance"
   ]
  },
  {
   "cell_type": "markdown",
   "metadata": {},
   "source": [
    "#### Explanation:  \n",
    "We observe that the applicant 9's loan application would still have been accepted even if only two variables maintained their original level - the consolidated risk marker score (i.e. ExternalRiskEstimate) and the number of satisfactory trades (i.e. NumSatisfactoryTrades) - and had a significant reduction in two other variables - average months that application was on file (i.e. AverageMlnFile) and the percentage of trades that were never delinquent (i.e. PercentTradesNeverDelq). MaxDelqEver is reduced to a minimum over the data.\n",
    "\n",
    "_Note that explanations may change a bit based on equivalent values in a local minima._"
   ]
  },
  {
   "cell_type": "code",
   "execution_count": null,
   "metadata": {},
   "outputs": [],
   "source": []
  }
 ],
 "metadata": {
  "celltoolbar": "Edit Metadata",
  "kernelspec": {
   "display_name": "Python 3",
   "language": "python",
   "name": "python3"
  },
  "language_info": {
   "codemirror_mode": {
    "name": "ipython",
    "version": 3
   },
   "file_extension": ".py",
   "mimetype": "text/x-python",
   "name": "python",
   "nbconvert_exporter": "python",
   "pygments_lexer": "ipython3",
   "version": "3.7.4"
  }
 },
 "nbformat": 4,
 "nbformat_minor": 2
}
